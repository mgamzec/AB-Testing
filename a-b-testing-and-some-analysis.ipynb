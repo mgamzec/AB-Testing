{
 "cells": [
  {
   "cell_type": "markdown",
   "id": "9f8fc6f6",
   "metadata": {
    "papermill": {
     "duration": 0.00891,
     "end_time": "2023-10-24T14:19:42.533464",
     "exception": false,
     "start_time": "2023-10-24T14:19:42.524554",
     "status": "completed"
    },
    "tags": []
   },
   "source": [
    "![](https://www.dreamfab.com/wp-content/uploads/12748105_1735270656706975_9117780761768802940_o-700x342.png)"
   ]
  },
  {
   "cell_type": "markdown",
   "id": "020cd5f9",
   "metadata": {
    "papermill": {
     "duration": 0.008314,
     "end_time": "2023-10-24T14:19:42.550428",
     "exception": false,
     "start_time": "2023-10-24T14:19:42.542114",
     "status": "completed"
    },
    "tags": []
   },
   "source": [
    "userid: A unique number that identifies each player.\n",
    "\n",
    "version: Whether the player was put in the control group (gate_30 - a gate at level 30) or the group with the moved gate (gate_40 - a)\n",
    "\n",
    "sum_gamerounds: The number of game rounds played by the player during the first 14 days after install.\n",
    "\n",
    "retention_1: Did the player come back and play 1 day after installing?\n",
    "\n",
    "retention_7: Did the player come back and play 7 days after installing?"
   ]
  },
  {
   "cell_type": "markdown",
   "id": "6155a46b",
   "metadata": {
    "papermill": {
     "duration": 0.008324,
     "end_time": "2023-10-24T14:19:42.567359",
     "exception": false,
     "start_time": "2023-10-24T14:19:42.559035",
     "status": "completed"
    },
    "tags": []
   },
   "source": [
    "#### **IMPORT LIBRARIES**"
   ]
  },
  {
   "cell_type": "code",
   "execution_count": 1,
   "id": "e1d4bde5",
   "metadata": {
    "_cell_guid": "b1076dfc-b9ad-4769-8c92-a6c4dae69d19",
    "_uuid": "8f2839f25d086af736a60e9eeb907d3b93b6e0e5",
    "execution": {
     "iopub.execute_input": "2023-10-24T14:19:42.586539Z",
     "iopub.status.busy": "2023-10-24T14:19:42.585931Z",
     "iopub.status.idle": "2023-10-24T14:19:44.742363Z",
     "shell.execute_reply": "2023-10-24T14:19:44.740755Z"
    },
    "papermill": {
     "duration": 2.169198,
     "end_time": "2023-10-24T14:19:44.745268",
     "exception": false,
     "start_time": "2023-10-24T14:19:42.576070",
     "status": "completed"
    },
    "tags": []
   },
   "outputs": [],
   "source": [
    "import itertools\n",
    "import numpy as np\n",
    "import pandas as pd\n",
    "import matplotlib.pyplot as plt\n",
    "import seaborn as sns\n",
    "import statsmodels.stats.api as sms\n",
    "from scipy.stats import ttest_1samp, shapiro, levene, ttest_ind, mannwhitneyu, \\\n",
    "    pearsonr, spearmanr, kendalltau, f_oneway, kruskal\n",
    "from statsmodels.stats.proportion import proportions_ztest\n",
    "from statsmodels.stats.multicomp import MultiComparison"
   ]
  },
  {
   "cell_type": "markdown",
   "id": "c637e68b",
   "metadata": {
    "papermill": {
     "duration": 0.008325,
     "end_time": "2023-10-24T14:19:44.762505",
     "exception": false,
     "start_time": "2023-10-24T14:19:44.754180",
     "status": "completed"
    },
    "tags": []
   },
   "source": [
    "#### **SOME OPTIONS**"
   ]
  },
  {
   "cell_type": "code",
   "execution_count": 2,
   "id": "8be7ec56",
   "metadata": {
    "execution": {
     "iopub.execute_input": "2023-10-24T14:19:44.782249Z",
     "iopub.status.busy": "2023-10-24T14:19:44.781753Z",
     "iopub.status.idle": "2023-10-24T14:19:44.785829Z",
     "shell.execute_reply": "2023-10-24T14:19:44.785157Z"
    },
    "papermill": {
     "duration": 0.017101,
     "end_time": "2023-10-24T14:19:44.788183",
     "exception": false,
     "start_time": "2023-10-24T14:19:44.771082",
     "status": "completed"
    },
    "tags": []
   },
   "outputs": [],
   "source": [
    "pd.set_option('display.max_columns', None)\n",
    "pd.set_option('display.max_rows', 10)\n",
    "pd.set_option('display.float_format', lambda x: '%.5f' % x)"
   ]
  },
  {
   "cell_type": "markdown",
   "id": "84c63afb",
   "metadata": {
    "papermill": {
     "duration": 0.008459,
     "end_time": "2023-10-24T14:19:44.805358",
     "exception": false,
     "start_time": "2023-10-24T14:19:44.796899",
     "status": "completed"
    },
    "tags": []
   },
   "source": [
    "#### **CLOSE WARNINGS**"
   ]
  },
  {
   "cell_type": "code",
   "execution_count": 3,
   "id": "7a67d0cd",
   "metadata": {
    "execution": {
     "iopub.execute_input": "2023-10-24T14:19:44.825638Z",
     "iopub.status.busy": "2023-10-24T14:19:44.825029Z",
     "iopub.status.idle": "2023-10-24T14:19:44.830358Z",
     "shell.execute_reply": "2023-10-24T14:19:44.829479Z"
    },
    "papermill": {
     "duration": 0.017886,
     "end_time": "2023-10-24T14:19:44.832435",
     "exception": false,
     "start_time": "2023-10-24T14:19:44.814549",
     "status": "completed"
    },
    "tags": []
   },
   "outputs": [],
   "source": [
    "import warnings\n",
    "warnings.filterwarnings(\"ignore\")\n",
    "#Ignore specific warnings by category\n",
    "warnings.filterwarnings(\"ignore\", category=FutureWarning)"
   ]
  },
  {
   "cell_type": "markdown",
   "id": "ab342440",
   "metadata": {
    "papermill": {
     "duration": 0.008814,
     "end_time": "2023-10-24T14:19:44.850097",
     "exception": false,
     "start_time": "2023-10-24T14:19:44.841283",
     "status": "completed"
    },
    "tags": []
   },
   "source": [
    "#### **LOAD AND CHECK DATA**"
   ]
  },
  {
   "cell_type": "code",
   "execution_count": 4,
   "id": "8279f4a6",
   "metadata": {
    "execution": {
     "iopub.execute_input": "2023-10-24T14:19:44.869294Z",
     "iopub.status.busy": "2023-10-24T14:19:44.868984Z",
     "iopub.status.idle": "2023-10-24T14:19:44.978147Z",
     "shell.execute_reply": "2023-10-24T14:19:44.976834Z"
    },
    "papermill": {
     "duration": 0.121389,
     "end_time": "2023-10-24T14:19:44.980474",
     "exception": false,
     "start_time": "2023-10-24T14:19:44.859085",
     "status": "completed"
    },
    "tags": []
   },
   "outputs": [
    {
     "data": {
      "text/html": [
       "<div>\n",
       "<style scoped>\n",
       "    .dataframe tbody tr th:only-of-type {\n",
       "        vertical-align: middle;\n",
       "    }\n",
       "\n",
       "    .dataframe tbody tr th {\n",
       "        vertical-align: top;\n",
       "    }\n",
       "\n",
       "    .dataframe thead th {\n",
       "        text-align: right;\n",
       "    }\n",
       "</style>\n",
       "<table border=\"1\" class=\"dataframe\">\n",
       "  <thead>\n",
       "    <tr style=\"text-align: right;\">\n",
       "      <th></th>\n",
       "      <th>userid</th>\n",
       "      <th>version</th>\n",
       "      <th>sum_gamerounds</th>\n",
       "      <th>retention_1</th>\n",
       "      <th>retention_7</th>\n",
       "    </tr>\n",
       "  </thead>\n",
       "  <tbody>\n",
       "    <tr>\n",
       "      <th>0</th>\n",
       "      <td>116</td>\n",
       "      <td>gate_30</td>\n",
       "      <td>3</td>\n",
       "      <td>False</td>\n",
       "      <td>False</td>\n",
       "    </tr>\n",
       "    <tr>\n",
       "      <th>1</th>\n",
       "      <td>337</td>\n",
       "      <td>gate_30</td>\n",
       "      <td>38</td>\n",
       "      <td>True</td>\n",
       "      <td>False</td>\n",
       "    </tr>\n",
       "    <tr>\n",
       "      <th>2</th>\n",
       "      <td>377</td>\n",
       "      <td>gate_40</td>\n",
       "      <td>165</td>\n",
       "      <td>True</td>\n",
       "      <td>False</td>\n",
       "    </tr>\n",
       "    <tr>\n",
       "      <th>3</th>\n",
       "      <td>483</td>\n",
       "      <td>gate_40</td>\n",
       "      <td>1</td>\n",
       "      <td>False</td>\n",
       "      <td>False</td>\n",
       "    </tr>\n",
       "    <tr>\n",
       "      <th>4</th>\n",
       "      <td>488</td>\n",
       "      <td>gate_40</td>\n",
       "      <td>179</td>\n",
       "      <td>True</td>\n",
       "      <td>True</td>\n",
       "    </tr>\n",
       "  </tbody>\n",
       "</table>\n",
       "</div>"
      ],
      "text/plain": [
       "   userid  version  sum_gamerounds  retention_1  retention_7\n",
       "0     116  gate_30               3        False        False\n",
       "1     337  gate_30              38         True        False\n",
       "2     377  gate_40             165         True        False\n",
       "3     483  gate_40               1        False        False\n",
       "4     488  gate_40             179         True         True"
      ]
     },
     "execution_count": 4,
     "metadata": {},
     "output_type": "execute_result"
    }
   ],
   "source": [
    "df = pd.read_csv(\"/kaggle/input/mobile-games-ab-testing/cookie_cats.csv\")\n",
    "df.head()"
   ]
  },
  {
   "cell_type": "code",
   "execution_count": 5,
   "id": "745b50af",
   "metadata": {
    "execution": {
     "iopub.execute_input": "2023-10-24T14:19:44.999393Z",
     "iopub.status.busy": "2023-10-24T14:19:44.999051Z",
     "iopub.status.idle": "2023-10-24T14:19:45.054035Z",
     "shell.execute_reply": "2023-10-24T14:19:45.052108Z"
    },
    "papermill": {
     "duration": 0.066792,
     "end_time": "2023-10-24T14:19:45.056152",
     "exception": false,
     "start_time": "2023-10-24T14:19:44.989360",
     "status": "completed"
    },
    "tags": []
   },
   "outputs": [
    {
     "name": "stdout",
     "output_type": "stream",
     "text": [
      "\n",
      "###################  Head  ###################\n",
      "\n",
      "   userid  version  sum_gamerounds  retention_1  retention_7\n",
      "0     116  gate_30               3        False        False\n",
      "1     337  gate_30              38         True        False\n",
      "2     377  gate_40             165         True        False\n",
      "3     483  gate_40               1        False        False\n",
      "4     488  gate_40             179         True         True\n",
      "\n",
      "###################  Info  ###################\n",
      "\n",
      "<class 'pandas.core.frame.DataFrame'>\n",
      "RangeIndex: 90189 entries, 0 to 90188\n",
      "Data columns (total 5 columns):\n",
      " #   Column          Non-Null Count  Dtype \n",
      "---  ------          --------------  ----- \n",
      " 0   userid          90189 non-null  int64 \n",
      " 1   version         90189 non-null  object\n",
      " 2   sum_gamerounds  90189 non-null  int64 \n",
      " 3   retention_1     90189 non-null  bool  \n",
      " 4   retention_7     90189 non-null  bool  \n",
      "dtypes: bool(2), int64(2), object(1)\n",
      "memory usage: 2.2+ MB\n",
      "None\n",
      "\n",
      "###################  Shape  ###################\n",
      "\n",
      "(90189, 5)\n",
      "\n",
      "###################  Ndim  ###################\n",
      "\n",
      "2\n",
      "\n",
      "###################  Null  ###################\n",
      "\n",
      "userid            0\n",
      "version           0\n",
      "sum_gamerounds    0\n",
      "retention_1       0\n",
      "retention_7       0\n",
      "dtype: int64\n",
      "\n",
      "###################  Describe  ###################\n",
      "\n",
      "                     count          mean           std       min           1%  \\\n",
      "userid         90189.00000 4998412.23450 2883285.60770 116.00000 100928.92000   \n",
      "sum_gamerounds 90189.00000      51.87246     195.05086   0.00000      0.00000   \n",
      "\n",
      "                         5%          10%           20%           50%  \\\n",
      "userid         502935.00000 992512.80000 2008728.20000 4995815.00000   \n",
      "sum_gamerounds      1.00000      1.00000       3.00000      16.00000   \n",
      "\n",
      "                         80%           90%           95%           99%  \\\n",
      "userid         7992060.00000 8986379.80000 9492761.60000 9899751.28000   \n",
      "sum_gamerounds      67.00000     134.00000     221.00000     493.00000   \n",
      "\n",
      "                         max  \n",
      "userid         9999861.00000  \n",
      "sum_gamerounds   49854.00000  \n"
     ]
    }
   ],
   "source": [
    "def summary_data(df,head=5):\n",
    "    func = {\"Head\": \".head(head)\",\n",
    "            \"Info\": \".info()\",\n",
    "           \"Shape\":\".shape\",\n",
    "           \"Ndim\":\".ndim\",\n",
    "           \"Null\": \".isnull().sum()\",\n",
    "           \"Describe\":\".describe([0.01, 0.05, 0.10, 0.20, 0.80, 0.90, 0.95, 0.99]).T\"}\n",
    "\n",
    "    for n,f in func.items():\n",
    "        print(\"\\n################### \",n, \" ###################\\n\")\n",
    "        print(eval(\"df\" + f))\n",
    "\n",
    "summary_data(df)"
   ]
  },
  {
   "cell_type": "markdown",
   "id": "0b07ecb8",
   "metadata": {
    "papermill": {
     "duration": 0.008857,
     "end_time": "2023-10-24T14:19:45.075648",
     "exception": false,
     "start_time": "2023-10-24T14:19:45.066791",
     "status": "completed"
    },
    "tags": []
   },
   "source": [
    "#### **DATA VISUALIZATION**"
   ]
  },
  {
   "cell_type": "code",
   "execution_count": 6,
   "id": "33edbd00",
   "metadata": {
    "execution": {
     "iopub.execute_input": "2023-10-24T14:19:45.096005Z",
     "iopub.status.busy": "2023-10-24T14:19:45.095606Z",
     "iopub.status.idle": "2023-10-24T14:19:45.485686Z",
     "shell.execute_reply": "2023-10-24T14:19:45.484321Z"
    },
    "papermill": {
     "duration": 0.403858,
     "end_time": "2023-10-24T14:19:45.488774",
     "exception": false,
     "start_time": "2023-10-24T14:19:45.084916",
     "status": "completed"
    },
    "tags": []
   },
   "outputs": [
    {
     "data": {
      "text/html": [
       "<div>\n",
       "<style scoped>\n",
       "    .dataframe tbody tr th:only-of-type {\n",
       "        vertical-align: middle;\n",
       "    }\n",
       "\n",
       "    .dataframe tbody tr th {\n",
       "        vertical-align: top;\n",
       "    }\n",
       "\n",
       "    .dataframe thead th {\n",
       "        text-align: right;\n",
       "    }\n",
       "</style>\n",
       "<table border=\"1\" class=\"dataframe\">\n",
       "  <thead>\n",
       "    <tr style=\"text-align: right;\">\n",
       "      <th></th>\n",
       "      <th>userid</th>\n",
       "      <th>sum_gamerounds</th>\n",
       "      <th>retention_1</th>\n",
       "      <th>retention_7</th>\n",
       "    </tr>\n",
       "    <tr>\n",
       "      <th>version</th>\n",
       "      <th></th>\n",
       "      <th></th>\n",
       "      <th></th>\n",
       "      <th></th>\n",
       "    </tr>\n",
       "  </thead>\n",
       "  <tbody>\n",
       "    <tr>\n",
       "      <th>gate_30</th>\n",
       "      <td>44700</td>\n",
       "      <td>44700</td>\n",
       "      <td>44700</td>\n",
       "      <td>44700</td>\n",
       "    </tr>\n",
       "    <tr>\n",
       "      <th>gate_40</th>\n",
       "      <td>45489</td>\n",
       "      <td>45489</td>\n",
       "      <td>45489</td>\n",
       "      <td>45489</td>\n",
       "    </tr>\n",
       "  </tbody>\n",
       "</table>\n",
       "</div>"
      ],
      "text/plain": [
       "         userid  sum_gamerounds  retention_1  retention_7\n",
       "version                                                  \n",
       "gate_30   44700           44700        44700        44700\n",
       "gate_40   45489           45489        45489        45489"
      ]
     },
     "metadata": {},
     "output_type": "display_data"
    },
    {
     "data": {
      "image/png": "[encoded data removed]",
      "text/plain": [
       "<Figure size 640x480 with 1 Axes>"
      ]
     },
     "metadata": {},
     "output_type": "display_data"
    },
    {
     "data": {
      "text/plain": [
       "<Axes: >"
      ]
     },
     "execution_count": 6,
     "metadata": {},
     "output_type": "execute_result"
    },
    {
     "data": {
      "image/png": "[encoded data removed]",
      "text/plain": [
       "<Figure size 640x480 with 1 Axes>"
      ]
     },
     "metadata": {},
     "output_type": "display_data"
    }
   ],
   "source": [
    "display(df.groupby('version').count())\n",
    "\n",
    "sns.countplot(x='version', data=df)\n",
    "plt.show()\n",
    "\n",
    "sns.boxplot(df['sum_gamerounds'])\n"
   ]
  },
  {
   "cell_type": "markdown",
   "id": "717e848c",
   "metadata": {
    "papermill": {
     "duration": 0.009314,
     "end_time": "2023-10-24T14:19:45.508039",
     "exception": false,
     "start_time": "2023-10-24T14:19:45.498725",
     "status": "completed"
    },
    "tags": []
   },
   "source": [
    "#### **A/B TESTING IMPLEMENTATION**"
   ]
  },
  {
   "cell_type": "markdown",
   "id": "f4fea19c",
   "metadata": {
    "papermill": {
     "duration": 0.009376,
     "end_time": "2023-10-24T14:19:45.527165",
     "exception": false,
     "start_time": "2023-10-24T14:19:45.517789",
     "status": "completed"
    },
    "tags": []
   },
   "source": [
    "* This code is used during analysis to mitigate the impact of outliers or clean the dataset. Outliers can mislead data analysis and distort results. Therefore, I used this code to suppress outliers and make the data analysis more reliable."
   ]
  },
  {
   "cell_type": "code",
   "execution_count": 7,
   "id": "3cb1a1a2",
   "metadata": {
    "execution": {
     "iopub.execute_input": "2023-10-24T14:19:45.606000Z",
     "iopub.status.busy": "2023-10-24T14:19:45.605304Z",
     "iopub.status.idle": "2023-10-24T14:19:45.634828Z",
     "shell.execute_reply": "2023-10-24T14:19:45.634144Z"
    },
    "papermill": {
     "duration": 0.100531,
     "end_time": "2023-10-24T14:19:45.637031",
     "exception": false,
     "start_time": "2023-10-24T14:19:45.536500",
     "status": "completed"
    },
    "tags": []
   },
   "outputs": [],
   "source": [
    "Q25 = np.quantile(df['sum_gamerounds'],0.25)\n",
    "Q75 = np.quantile(df['sum_gamerounds'],0.75)\n",
    "Interquantile_Range = Q75 - Q25\n",
    "\n",
    "Include_range = (max(min(df['sum_gamerounds']), Q25-1.5*Interquantile_Range),\n",
    "                min(max(df['sum_gamerounds']), Q75+1.5*Interquantile_Range))\n",
    "\n",
    "df_without_outlier = df[\n",
    "    (df['sum_gamerounds'] > Include_range[0]) &\n",
    "    (df['sum_gamerounds'] < Include_range[1])]"
   ]
  },
  {
   "cell_type": "markdown",
   "id": "3fca7e8e",
   "metadata": {
    "papermill": {
     "duration": 0.009235,
     "end_time": "2023-10-24T14:19:45.656034",
     "exception": false,
     "start_time": "2023-10-24T14:19:45.646799",
     "status": "completed"
    },
    "tags": []
   },
   "source": [
    "* After suppressing the outliers, visualize the data."
   ]
  },
  {
   "cell_type": "code",
   "execution_count": 8,
   "id": "81c619eb",
   "metadata": {
    "execution": {
     "iopub.execute_input": "2023-10-24T14:19:45.677305Z",
     "iopub.status.busy": "2023-10-24T14:19:45.676697Z",
     "iopub.status.idle": "2023-10-24T14:19:45.853968Z",
     "shell.execute_reply": "2023-10-24T14:19:45.852901Z"
    },
    "papermill": {
     "duration": 0.190504,
     "end_time": "2023-10-24T14:19:45.856098",
     "exception": false,
     "start_time": "2023-10-24T14:19:45.665594",
     "status": "completed"
    },
    "tags": []
   },
   "outputs": [
    {
     "data": {
      "text/plain": [
       "<Axes: >"
      ]
     },
     "execution_count": 8,
     "metadata": {},
     "output_type": "execute_result"
    },
    {
     "data": {
      "image/png": "[encoded data removed]",
      "text/plain": [
       "<Figure size 640x480 with 1 Axes>"
      ]
     },
     "metadata": {},
     "output_type": "display_data"
    }
   ],
   "source": [
    "sns.boxplot(df_without_outlier['sum_gamerounds'])"
   ]
  },
  {
   "cell_type": "code",
   "execution_count": 9,
   "id": "61b64e8c",
   "metadata": {
    "execution": {
     "iopub.execute_input": "2023-10-24T14:19:45.879214Z",
     "iopub.status.busy": "2023-10-24T14:19:45.877697Z",
     "iopub.status.idle": "2023-10-24T14:19:46.116751Z",
     "shell.execute_reply": "2023-10-24T14:19:46.115566Z"
    },
    "papermill": {
     "duration": 0.252918,
     "end_time": "2023-10-24T14:19:46.119240",
     "exception": false,
     "start_time": "2023-10-24T14:19:45.866322",
     "status": "completed"
    },
    "tags": []
   },
   "outputs": [
    {
     "data": {
      "image/png": "[encoded data removed]",
      "text/plain": [
       "<Figure size 1800x1000 with 1 Axes>"
      ]
     },
     "metadata": {},
     "output_type": "display_data"
    }
   ],
   "source": [
    "fig,ax=plt.subplots(figsize =(18,10))\n",
    "ax.hist(df_without_outlier['sum_gamerounds'])\n",
    "plt.show()"
   ]
  },
  {
   "cell_type": "code",
   "execution_count": 10,
   "id": "f4539a8e",
   "metadata": {
    "execution": {
     "iopub.execute_input": "2023-10-24T14:19:46.142248Z",
     "iopub.status.busy": "2023-10-24T14:19:46.141866Z",
     "iopub.status.idle": "2023-10-24T14:19:46.297720Z",
     "shell.execute_reply": "2023-10-24T14:19:46.296286Z"
    },
    "papermill": {
     "duration": 0.170343,
     "end_time": "2023-10-24T14:19:46.300307",
     "exception": false,
     "start_time": "2023-10-24T14:19:46.129964",
     "status": "completed"
    },
    "tags": []
   },
   "outputs": [
    {
     "data": {
      "image/png": "[encoded data removed]",
      "text/plain": [
       "<Figure size 640x480 with 1 Axes>"
      ]
     },
     "metadata": {},
     "output_type": "display_data"
    }
   ],
   "source": [
    "\n",
    "value_counts = df_without_outlier[\"retention_1\"].value_counts()\n",
    "\n",
    "sns.barplot(x=value_counts.index, y=value_counts.values)\n",
    "plt.title(\"retention_1 Value Counts\")\n",
    "plt.xlabel(\"Value\")\n",
    "plt.ylabel(\"Number\")\n",
    "plt.show()"
   ]
  },
  {
   "cell_type": "code",
   "execution_count": 11,
   "id": "acc5fbab",
   "metadata": {
    "execution": {
     "iopub.execute_input": "2023-10-24T14:19:46.324712Z",
     "iopub.status.busy": "2023-10-24T14:19:46.324350Z",
     "iopub.status.idle": "2023-10-24T14:19:46.493149Z",
     "shell.execute_reply": "2023-10-24T14:19:46.491716Z"
    },
    "papermill": {
     "duration": 0.184732,
     "end_time": "2023-10-24T14:19:46.495614",
     "exception": false,
     "start_time": "2023-10-24T14:19:46.310882",
     "status": "completed"
    },
    "tags": []
   },
   "outputs": [
    {
     "data": {
      "image/png": "[encoded data removed]",
      "text/plain": [
       "<Figure size 640x480 with 1 Axes>"
      ]
     },
     "metadata": {},
     "output_type": "display_data"
    }
   ],
   "source": [
    "value_counts_2 = df_without_outlier[\"retention_7\"].value_counts()\n",
    "\n",
    "sns.barplot(x=value_counts.index, y=value_counts_2.values)\n",
    "plt.title(\"retention_7 Value Counts\")\n",
    "plt.xlabel(\"Value\")\n",
    "plt.ylabel(\"Number\")\n",
    "plt.show()"
   ]
  },
  {
   "cell_type": "markdown",
   "id": "2176b27a",
   "metadata": {
    "papermill": {
     "duration": 0.011074,
     "end_time": "2023-10-24T14:19:46.517827",
     "exception": false,
     "start_time": "2023-10-24T14:19:46.506753",
     "status": "completed"
    },
    "tags": []
   },
   "source": [
    "* This code calculates basic statistical summaries for the \"sum_gamerounds,\" \"retention_1,\" and \"retention_7\" columns for different game versions. This can be useful for comparing and analyzing the data across different versions of the game."
   ]
  },
  {
   "cell_type": "code",
   "execution_count": 12,
   "id": "de9b4b7f",
   "metadata": {
    "execution": {
     "iopub.execute_input": "2023-10-24T14:19:46.541518Z",
     "iopub.status.busy": "2023-10-24T14:19:46.541013Z",
     "iopub.status.idle": "2023-10-24T14:19:46.586385Z",
     "shell.execute_reply": "2023-10-24T14:19:46.585506Z"
    },
    "papermill": {
     "duration": 0.05929,
     "end_time": "2023-10-24T14:19:46.588175",
     "exception": false,
     "start_time": "2023-10-24T14:19:46.528885",
     "status": "completed"
    },
    "tags": []
   },
   "outputs": [
    {
     "data": {
      "text/html": [
       "<div>\n",
       "<style scoped>\n",
       "    .dataframe tbody tr th:only-of-type {\n",
       "        vertical-align: middle;\n",
       "    }\n",
       "\n",
       "    .dataframe tbody tr th {\n",
       "        vertical-align: top;\n",
       "    }\n",
       "\n",
       "    .dataframe thead tr th {\n",
       "        text-align: left;\n",
       "    }\n",
       "\n",
       "    .dataframe thead tr:last-of-type th {\n",
       "        text-align: right;\n",
       "    }\n",
       "</style>\n",
       "<table border=\"1\" class=\"dataframe\">\n",
       "  <thead>\n",
       "    <tr>\n",
       "      <th></th>\n",
       "      <th colspan=\"5\" halign=\"left\">sum_gamerounds</th>\n",
       "      <th colspan=\"5\" halign=\"left\">retention_1</th>\n",
       "      <th colspan=\"5\" halign=\"left\">retention_7</th>\n",
       "    </tr>\n",
       "    <tr>\n",
       "      <th></th>\n",
       "      <th>count</th>\n",
       "      <th>median</th>\n",
       "      <th>mean</th>\n",
       "      <th>std</th>\n",
       "      <th>max</th>\n",
       "      <th>count</th>\n",
       "      <th>median</th>\n",
       "      <th>mean</th>\n",
       "      <th>std</th>\n",
       "      <th>max</th>\n",
       "      <th>count</th>\n",
       "      <th>median</th>\n",
       "      <th>mean</th>\n",
       "      <th>std</th>\n",
       "      <th>max</th>\n",
       "    </tr>\n",
       "    <tr>\n",
       "      <th>version</th>\n",
       "      <th></th>\n",
       "      <th></th>\n",
       "      <th></th>\n",
       "      <th></th>\n",
       "      <th></th>\n",
       "      <th></th>\n",
       "      <th></th>\n",
       "      <th></th>\n",
       "      <th></th>\n",
       "      <th></th>\n",
       "      <th></th>\n",
       "      <th></th>\n",
       "      <th></th>\n",
       "      <th></th>\n",
       "      <th></th>\n",
       "    </tr>\n",
       "  </thead>\n",
       "  <tbody>\n",
       "    <tr>\n",
       "      <th>gate_30</th>\n",
       "      <td>37656</td>\n",
       "      <td>14.00000</td>\n",
       "      <td>25.06211</td>\n",
       "      <td>27.09794</td>\n",
       "      <td>119</td>\n",
       "      <td>37656</td>\n",
       "      <td>0.00000</td>\n",
       "      <td>0.40750</td>\n",
       "      <td>0.49138</td>\n",
       "      <td>True</td>\n",
       "      <td>37656</td>\n",
       "      <td>0.00000</td>\n",
       "      <td>0.12330</td>\n",
       "      <td>0.32879</td>\n",
       "      <td>True</td>\n",
       "    </tr>\n",
       "    <tr>\n",
       "      <th>gate_40</th>\n",
       "      <td>38263</td>\n",
       "      <td>14.00000</td>\n",
       "      <td>25.16800</td>\n",
       "      <td>27.75218</td>\n",
       "      <td>119</td>\n",
       "      <td>38263</td>\n",
       "      <td>0.00000</td>\n",
       "      <td>0.40209</td>\n",
       "      <td>0.49033</td>\n",
       "      <td>True</td>\n",
       "      <td>38263</td>\n",
       "      <td>0.00000</td>\n",
       "      <td>0.11455</td>\n",
       "      <td>0.31848</td>\n",
       "      <td>True</td>\n",
       "    </tr>\n",
       "  </tbody>\n",
       "</table>\n",
       "</div>"
      ],
      "text/plain": [
       "        sum_gamerounds                                 retention_1          \\\n",
       "                 count   median     mean      std  max       count  median   \n",
       "version                                                                      \n",
       "gate_30          37656 14.00000 25.06211 27.09794  119       37656 0.00000   \n",
       "gate_40          38263 14.00000 25.16800 27.75218  119       38263 0.00000   \n",
       "\n",
       "                              retention_7                                \n",
       "           mean     std   max       count  median    mean     std   max  \n",
       "version                                                                  \n",
       "gate_30 0.40750 0.49138  True       37656 0.00000 0.12330 0.32879  True  \n",
       "gate_40 0.40209 0.49033  True       38263 0.00000 0.11455 0.31848  True  "
      ]
     },
     "execution_count": 12,
     "metadata": {},
     "output_type": "execute_result"
    }
   ],
   "source": [
    "df_without_outlier.groupby(\"version\").agg({\"sum_gamerounds\":[\"count\", \"median\", \"mean\", \"std\", \"max\"],\n",
    "                          \"retention_1\":[\"count\", \"median\", \"mean\", \"std\", \"max\"],\n",
    "                          \"retention_7\":[\"count\", \"median\", \"mean\", \"std\", \"max\"]})"
   ]
  },
  {
   "cell_type": "markdown",
   "id": "8a0bc7e4",
   "metadata": {
    "papermill": {
     "duration": 0.010739,
     "end_time": "2023-10-24T14:19:46.610253",
     "exception": false,
     "start_time": "2023-10-24T14:19:46.599514",
     "status": "completed"
    },
    "tags": []
   },
   "source": [
    "Based on these numbers, there may not be a significant difference in the average game rounds played at Gate_30 and Gate_40. However, this difference could have occurred by chance and might need to be statistically tested.\n",
    "\n",
    "* Step 1 - Formulate Hypotheses:\n",
    "\n",
    "Null Hypothesis (H0): μ1 = μ2 (\"There is no statistically significant difference in the means of the number of game rounds played by players at Gate_30 and Gate_40.\")\n",
    "\n",
    "Alternative Hypothesis (H1): μ1 ≠ μ2 (\"There is a statistically significant difference in the means of the number of game rounds played by players at Gate_30 and Gate_40.\")\n",
    "\n",
    "* Step 2 - Assumption Checks:\n",
    "\n",
    "Normality Assumption\n",
    "\n",
    "Homogeneity of Variance\n",
    "\n",
    "* Step 3 - Normality Assumption Hypothesis:\n",
    "\n",
    "H0: The normal distribution assumption is met.\n",
    "\n",
    "H1: The normal distribution assumption is not met.\n",
    "\n",
    "* Step 4 - Assumption of Homogeneity of Variance:\n",
    "\n",
    "H0: Variances are homogenous.\n",
    "\n",
    "H1: Variances are not homogenous."
   ]
  },
  {
   "cell_type": "markdown",
   "id": "aea9b777",
   "metadata": {
    "papermill": {
     "duration": 0.010864,
     "end_time": "2023-10-24T14:19:46.631975",
     "exception": false,
     "start_time": "2023-10-24T14:19:46.621111",
     "status": "completed"
    },
    "tags": []
   },
   "source": [
    "#### **Normality Check** ####"
   ]
  },
  {
   "cell_type": "markdown",
   "id": "c83f02b5",
   "metadata": {
    "papermill": {
     "duration": 0.011569,
     "end_time": "2023-10-24T14:19:46.654896",
     "exception": false,
     "start_time": "2023-10-24T14:19:46.643327",
     "status": "completed"
    },
    "tags": []
   },
   "source": [
    "* p-value = 0.0000 < alpha = 0.05 H0 is rejected. The normal distribution assumption is not met."
   ]
  },
  {
   "cell_type": "code",
   "execution_count": 13,
   "id": "9f3e4084",
   "metadata": {
    "execution": {
     "iopub.execute_input": "2023-10-24T14:19:46.680635Z",
     "iopub.status.busy": "2023-10-24T14:19:46.679213Z",
     "iopub.status.idle": "2023-10-24T14:19:46.695492Z",
     "shell.execute_reply": "2023-10-24T14:19:46.694484Z"
    },
    "papermill": {
     "duration": 0.030956,
     "end_time": "2023-10-24T14:19:46.697378",
     "exception": false,
     "start_time": "2023-10-24T14:19:46.666422",
     "status": "completed"
    },
    "tags": []
   },
   "outputs": [
    {
     "name": "stdout",
     "output_type": "stream",
     "text": [
      "Test Stat = 0.8087, p-value = 0.0000\n"
     ]
    }
   ],
   "source": [
    "test_stat, pvalue = shapiro(df_without_outlier.loc[df_without_outlier[\"version\"] == \"gate_30\", \"sum_gamerounds\"])\n",
    "print('Test Stat = %.4f, p-value = %.4f' % (test_stat, pvalue))"
   ]
  },
  {
   "cell_type": "markdown",
   "id": "8e9397fd",
   "metadata": {
    "papermill": {
     "duration": 0.011028,
     "end_time": "2023-10-24T14:19:46.720093",
     "exception": false,
     "start_time": "2023-10-24T14:19:46.709065",
     "status": "completed"
    },
    "tags": []
   },
   "source": [
    "* p-value = 0.0000 < alpha = 0.05 H0 is rejected. The normal distribution assumption is not met."
   ]
  },
  {
   "cell_type": "code",
   "execution_count": 14,
   "id": "4aa864e0",
   "metadata": {
    "execution": {
     "iopub.execute_input": "2023-10-24T14:19:46.745176Z",
     "iopub.status.busy": "2023-10-24T14:19:46.743722Z",
     "iopub.status.idle": "2023-10-24T14:19:46.759771Z",
     "shell.execute_reply": "2023-10-24T14:19:46.758341Z"
    },
    "papermill": {
     "duration": 0.030589,
     "end_time": "2023-10-24T14:19:46.761768",
     "exception": false,
     "start_time": "2023-10-24T14:19:46.731179",
     "status": "completed"
    },
    "tags": []
   },
   "outputs": [
    {
     "name": "stdout",
     "output_type": "stream",
     "text": [
      "Test Stat = 0.8003, p-value = 0.0000\n"
     ]
    }
   ],
   "source": [
    "test_stat, pvalue = shapiro(df_without_outlier.loc[df_without_outlier[\"version\"] == \"gate_40\", \"sum_gamerounds\"])\n",
    "print('Test Stat = %.4f, p-value = %.4f' % (test_stat, pvalue))"
   ]
  },
  {
   "cell_type": "markdown",
   "id": "38c4bc00",
   "metadata": {
    "papermill": {
     "duration": 0.010657,
     "end_time": "2023-10-24T14:19:46.783695",
     "exception": false,
     "start_time": "2023-10-24T14:19:46.773038",
     "status": "completed"
    },
    "tags": []
   },
   "source": [
    "#### **Variance Homogeneity Control** ####"
   ]
  },
  {
   "cell_type": "markdown",
   "id": "10c0506f",
   "metadata": {
    "papermill": {
     "duration": 0.010888,
     "end_time": "2023-10-24T14:19:46.805600",
     "exception": false,
     "start_time": "2023-10-24T14:19:46.794712",
     "status": "completed"
    },
    "tags": []
   },
   "source": [
    "* p-value = 0.0948 > alpha = 0.05. H0 is not rejected. Variances are homogenous. Homogeneity of variances is no longer important because the data does not follow a normal distribution. Therefore, we will apply a non-parametric test."
   ]
  },
  {
   "cell_type": "code",
   "execution_count": 15,
   "id": "ee562600",
   "metadata": {
    "execution": {
     "iopub.execute_input": "2023-10-24T14:19:46.831874Z",
     "iopub.status.busy": "2023-10-24T14:19:46.831181Z",
     "iopub.status.idle": "2023-10-24T14:19:46.854345Z",
     "shell.execute_reply": "2023-10-24T14:19:46.853008Z"
    },
    "papermill": {
     "duration": 0.038733,
     "end_time": "2023-10-24T14:19:46.856650",
     "exception": false,
     "start_time": "2023-10-24T14:19:46.817917",
     "status": "completed"
    },
    "tags": []
   },
   "outputs": [
    {
     "name": "stdout",
     "output_type": "stream",
     "text": [
      "Test Stat = 2.7916, p-value = 0.0948\n"
     ]
    }
   ],
   "source": [
    "test_stat, pvalue = levene(df_without_outlier.loc[df_without_outlier[\"version\"] == \"gate_30\", \"sum_gamerounds\"], \n",
    "                           df_without_outlier.loc[df_without_outlier[\"version\"] == \"gate_40\", \"sum_gamerounds\"])\n",
    "print('Test Stat = %.4f, p-value = %.4f' % (test_stat, pvalue))"
   ]
  },
  {
   "cell_type": "markdown",
   "id": "de22df83",
   "metadata": {
    "papermill": {
     "duration": 0.01125,
     "end_time": "2023-10-24T14:19:46.879337",
     "exception": false,
     "start_time": "2023-10-24T14:19:46.868087",
     "status": "completed"
    },
    "tags": []
   },
   "source": [
    "#### **MannWhitneyU Test** ####"
   ]
  },
  {
   "cell_type": "markdown",
   "id": "26a73113",
   "metadata": {
    "papermill": {
     "duration": 0.011387,
     "end_time": "2023-10-24T14:19:46.902267",
     "exception": false,
     "start_time": "2023-10-24T14:19:46.890880",
     "status": "completed"
    },
    "tags": []
   },
   "source": [
    "* p-value= 0.828 > alpha = 0.05 H0 is not rejected. There is no statistically significant difference in the number of game rounds played between the Gate_30 and Gate_40 versions."
   ]
  },
  {
   "cell_type": "code",
   "execution_count": 16,
   "id": "a1d416f0",
   "metadata": {
    "execution": {
     "iopub.execute_input": "2023-10-24T14:19:46.927643Z",
     "iopub.status.busy": "2023-10-24T14:19:46.927111Z",
     "iopub.status.idle": "2023-10-24T14:19:46.999998Z",
     "shell.execute_reply": "2023-10-24T14:19:46.999128Z"
    },
    "papermill": {
     "duration": 0.088008,
     "end_time": "2023-10-24T14:19:47.001650",
     "exception": false,
     "start_time": "2023-10-24T14:19:46.913642",
     "status": "completed"
    },
    "tags": []
   },
   "outputs": [
    {
     "name": "stdout",
     "output_type": "stream",
     "text": [
      "Test Stat = 725650246.5000, p-value = 0.0828\n"
     ]
    }
   ],
   "source": [
    "test_stat, pvalue = mannwhitneyu(df_without_outlier.loc[df_without_outlier[\"version\"] == \"gate_30\", \"sum_gamerounds\"], \n",
    "                           df_without_outlier.loc[df_without_outlier[\"version\"] == \"gate_40\", \"sum_gamerounds\"])\n",
    "print('Test Stat = %.4f, p-value = %.4f' % (test_stat, pvalue))"
   ]
  },
  {
   "cell_type": "markdown",
   "id": "75853fd7",
   "metadata": {
    "papermill": {
     "duration": 0.011308,
     "end_time": "2023-10-24T14:19:47.024479",
     "exception": false,
     "start_time": "2023-10-24T14:19:47.013171",
     "status": "completed"
    },
    "tags": []
   },
   "source": [
    "* I removed the \"version\" from the data because there was no relationship."
   ]
  },
  {
   "cell_type": "code",
   "execution_count": 17,
   "id": "87fb3563",
   "metadata": {
    "execution": {
     "iopub.execute_input": "2023-10-24T14:19:47.049971Z",
     "iopub.status.busy": "2023-10-24T14:19:47.049326Z",
     "iopub.status.idle": "2023-10-24T14:19:47.055641Z",
     "shell.execute_reply": "2023-10-24T14:19:47.054099Z"
    },
    "papermill": {
     "duration": 0.022523,
     "end_time": "2023-10-24T14:19:47.058636",
     "exception": false,
     "start_time": "2023-10-24T14:19:47.036113",
     "status": "completed"
    },
    "tags": []
   },
   "outputs": [],
   "source": [
    "df_without_outlier = df_without_outlier.drop('version', axis=1)"
   ]
  },
  {
   "cell_type": "markdown",
   "id": "e1fae080",
   "metadata": {
    "papermill": {
     "duration": 0.011099,
     "end_time": "2023-10-24T14:19:47.081494",
     "exception": false,
     "start_time": "2023-10-24T14:19:47.070395",
     "status": "completed"
    },
    "tags": []
   },
   "source": [
    "* I converted the data types of \"retention_1\" and \"retention_7\" from \"bool\" to \"int\" to be able to segment and analyze them."
   ]
  },
  {
   "cell_type": "code",
   "execution_count": 18,
   "id": "4c123c15",
   "metadata": {
    "execution": {
     "iopub.execute_input": "2023-10-24T14:19:47.105888Z",
     "iopub.status.busy": "2023-10-24T14:19:47.105560Z",
     "iopub.status.idle": "2023-10-24T14:19:47.114920Z",
     "shell.execute_reply": "2023-10-24T14:19:47.114220Z"
    },
    "papermill": {
     "duration": 0.023935,
     "end_time": "2023-10-24T14:19:47.116839",
     "exception": false,
     "start_time": "2023-10-24T14:19:47.092904",
     "status": "completed"
    },
    "tags": []
   },
   "outputs": [
    {
     "data": {
      "text/html": [
       "<div>\n",
       "<style scoped>\n",
       "    .dataframe tbody tr th:only-of-type {\n",
       "        vertical-align: middle;\n",
       "    }\n",
       "\n",
       "    .dataframe tbody tr th {\n",
       "        vertical-align: top;\n",
       "    }\n",
       "\n",
       "    .dataframe thead th {\n",
       "        text-align: right;\n",
       "    }\n",
       "</style>\n",
       "<table border=\"1\" class=\"dataframe\">\n",
       "  <thead>\n",
       "    <tr style=\"text-align: right;\">\n",
       "      <th></th>\n",
       "      <th>userid</th>\n",
       "      <th>sum_gamerounds</th>\n",
       "      <th>retention_1</th>\n",
       "      <th>retention_7</th>\n",
       "    </tr>\n",
       "  </thead>\n",
       "  <tbody>\n",
       "    <tr>\n",
       "      <th>0</th>\n",
       "      <td>116</td>\n",
       "      <td>3</td>\n",
       "      <td>0</td>\n",
       "      <td>0</td>\n",
       "    </tr>\n",
       "    <tr>\n",
       "      <th>1</th>\n",
       "      <td>337</td>\n",
       "      <td>38</td>\n",
       "      <td>1</td>\n",
       "      <td>0</td>\n",
       "    </tr>\n",
       "    <tr>\n",
       "      <th>3</th>\n",
       "      <td>483</td>\n",
       "      <td>1</td>\n",
       "      <td>0</td>\n",
       "      <td>0</td>\n",
       "    </tr>\n",
       "    <tr>\n",
       "      <th>7</th>\n",
       "      <td>1444</td>\n",
       "      <td>2</td>\n",
       "      <td>0</td>\n",
       "      <td>0</td>\n",
       "    </tr>\n",
       "    <tr>\n",
       "      <th>8</th>\n",
       "      <td>1574</td>\n",
       "      <td>108</td>\n",
       "      <td>1</td>\n",
       "      <td>1</td>\n",
       "    </tr>\n",
       "  </tbody>\n",
       "</table>\n",
       "</div>"
      ],
      "text/plain": [
       "   userid  sum_gamerounds  retention_1  retention_7\n",
       "0     116               3            0            0\n",
       "1     337              38            1            0\n",
       "3     483               1            0            0\n",
       "7    1444               2            0            0\n",
       "8    1574             108            1            1"
      ]
     },
     "execution_count": 18,
     "metadata": {},
     "output_type": "execute_result"
    }
   ],
   "source": [
    "df_without_outlier['retention_1'] = df_without_outlier['retention_1'].astype(int)\n",
    "df_without_outlier['retention_7'] = df_without_outlier['retention_7'].astype(int)\n",
    "df_without_outlier.head()"
   ]
  },
  {
   "cell_type": "markdown",
   "id": "740f4bcc",
   "metadata": {
    "papermill": {
     "duration": 0.011813,
     "end_time": "2023-10-24T14:19:47.140309",
     "exception": false,
     "start_time": "2023-10-24T14:19:47.128496",
     "status": "completed"
    },
    "tags": []
   },
   "source": [
    "* I combined the values of \"retention_1\" and \"retention_7\" into a new column (RET1_RET7) to assign segments."
   ]
  },
  {
   "cell_type": "code",
   "execution_count": 19,
   "id": "f09db168",
   "metadata": {
    "execution": {
     "iopub.execute_input": "2023-10-24T14:19:47.166505Z",
     "iopub.status.busy": "2023-10-24T14:19:47.165517Z",
     "iopub.status.idle": "2023-10-24T14:19:47.235574Z",
     "shell.execute_reply": "2023-10-24T14:19:47.234231Z"
    },
    "papermill": {
     "duration": 0.085385,
     "end_time": "2023-10-24T14:19:47.237725",
     "exception": false,
     "start_time": "2023-10-24T14:19:47.152340",
     "status": "completed"
    },
    "tags": []
   },
   "outputs": [
    {
     "data": {
      "text/html": [
       "<div>\n",
       "<style scoped>\n",
       "    .dataframe tbody tr th:only-of-type {\n",
       "        vertical-align: middle;\n",
       "    }\n",
       "\n",
       "    .dataframe tbody tr th {\n",
       "        vertical-align: top;\n",
       "    }\n",
       "\n",
       "    .dataframe thead th {\n",
       "        text-align: right;\n",
       "    }\n",
       "</style>\n",
       "<table border=\"1\" class=\"dataframe\">\n",
       "  <thead>\n",
       "    <tr style=\"text-align: right;\">\n",
       "      <th></th>\n",
       "      <th>userid</th>\n",
       "      <th>sum_gamerounds</th>\n",
       "      <th>retention_1</th>\n",
       "      <th>retention_7</th>\n",
       "      <th>RET1_RET7</th>\n",
       "    </tr>\n",
       "  </thead>\n",
       "  <tbody>\n",
       "    <tr>\n",
       "      <th>0</th>\n",
       "      <td>116</td>\n",
       "      <td>3</td>\n",
       "      <td>0</td>\n",
       "      <td>0</td>\n",
       "      <td>00</td>\n",
       "    </tr>\n",
       "    <tr>\n",
       "      <th>1</th>\n",
       "      <td>337</td>\n",
       "      <td>38</td>\n",
       "      <td>1</td>\n",
       "      <td>0</td>\n",
       "      <td>10</td>\n",
       "    </tr>\n",
       "    <tr>\n",
       "      <th>3</th>\n",
       "      <td>483</td>\n",
       "      <td>1</td>\n",
       "      <td>0</td>\n",
       "      <td>0</td>\n",
       "      <td>00</td>\n",
       "    </tr>\n",
       "    <tr>\n",
       "      <th>7</th>\n",
       "      <td>1444</td>\n",
       "      <td>2</td>\n",
       "      <td>0</td>\n",
       "      <td>0</td>\n",
       "      <td>00</td>\n",
       "    </tr>\n",
       "    <tr>\n",
       "      <th>8</th>\n",
       "      <td>1574</td>\n",
       "      <td>108</td>\n",
       "      <td>1</td>\n",
       "      <td>1</td>\n",
       "      <td>11</td>\n",
       "    </tr>\n",
       "    <tr>\n",
       "      <th>...</th>\n",
       "      <td>...</td>\n",
       "      <td>...</td>\n",
       "      <td>...</td>\n",
       "      <td>...</td>\n",
       "      <td>...</td>\n",
       "    </tr>\n",
       "    <tr>\n",
       "      <th>90184</th>\n",
       "      <td>9999441</td>\n",
       "      <td>97</td>\n",
       "      <td>1</td>\n",
       "      <td>0</td>\n",
       "      <td>10</td>\n",
       "    </tr>\n",
       "    <tr>\n",
       "      <th>90185</th>\n",
       "      <td>9999479</td>\n",
       "      <td>30</td>\n",
       "      <td>0</td>\n",
       "      <td>0</td>\n",
       "      <td>00</td>\n",
       "    </tr>\n",
       "    <tr>\n",
       "      <th>90186</th>\n",
       "      <td>9999710</td>\n",
       "      <td>28</td>\n",
       "      <td>1</td>\n",
       "      <td>0</td>\n",
       "      <td>10</td>\n",
       "    </tr>\n",
       "    <tr>\n",
       "      <th>90187</th>\n",
       "      <td>9999768</td>\n",
       "      <td>51</td>\n",
       "      <td>1</td>\n",
       "      <td>0</td>\n",
       "      <td>10</td>\n",
       "    </tr>\n",
       "    <tr>\n",
       "      <th>90188</th>\n",
       "      <td>9999861</td>\n",
       "      <td>16</td>\n",
       "      <td>0</td>\n",
       "      <td>0</td>\n",
       "      <td>00</td>\n",
       "    </tr>\n",
       "  </tbody>\n",
       "</table>\n",
       "<p>75919 rows × 5 columns</p>\n",
       "</div>"
      ],
      "text/plain": [
       "        userid  sum_gamerounds  retention_1  retention_7 RET1_RET7\n",
       "0          116               3            0            0        00\n",
       "1          337              38            1            0        10\n",
       "3          483               1            0            0        00\n",
       "7         1444               2            0            0        00\n",
       "8         1574             108            1            1        11\n",
       "...        ...             ...          ...          ...       ...\n",
       "90184  9999441              97            1            0        10\n",
       "90185  9999479              30            0            0        00\n",
       "90186  9999710              28            1            0        10\n",
       "90187  9999768              51            1            0        10\n",
       "90188  9999861              16            0            0        00\n",
       "\n",
       "[75919 rows x 5 columns]"
      ]
     },
     "execution_count": 19,
     "metadata": {},
     "output_type": "execute_result"
    }
   ],
   "source": [
    "df_without_outlier[\"RET1_RET7\"] = (df_without_outlier[\"retention_1\"].astype(str) +\n",
    "                    df_without_outlier[\"retention_7\"].astype(str))\n",
    "df_without_outlier"
   ]
  },
  {
   "cell_type": "markdown",
   "id": "e3a31fe5",
   "metadata": {
    "papermill": {
     "duration": 0.011468,
     "end_time": "2023-10-24T14:19:47.261172",
     "exception": false,
     "start_time": "2023-10-24T14:19:47.249704",
     "status": "completed"
    },
    "tags": []
   },
   "source": [
    "* I classified the segments and assigned them as variables."
   ]
  },
  {
   "cell_type": "code",
   "execution_count": 20,
   "id": "870a4c2b",
   "metadata": {
    "execution": {
     "iopub.execute_input": "2023-10-24T14:19:47.287148Z",
     "iopub.status.busy": "2023-10-24T14:19:47.286803Z",
     "iopub.status.idle": "2023-10-24T14:19:47.292333Z",
     "shell.execute_reply": "2023-10-24T14:19:47.290725Z"
    },
    "papermill": {
     "duration": 0.02111,
     "end_time": "2023-10-24T14:19:47.294445",
     "exception": false,
     "start_time": "2023-10-24T14:19:47.273335",
     "status": "completed"
    },
    "tags": []
   },
   "outputs": [],
   "source": [
    "seg_map = { \n",
    "    r\"[0][0]\": \"churn\",\n",
    "    r\"[1][0]\": \"churn after the first day\",\n",
    "    r\"[1][1]\": \"top users\",\n",
    "}"
   ]
  },
  {
   "cell_type": "code",
   "execution_count": 21,
   "id": "d2e73964",
   "metadata": {
    "execution": {
     "iopub.execute_input": "2023-10-24T14:19:47.321172Z",
     "iopub.status.busy": "2023-10-24T14:19:47.320741Z",
     "iopub.status.idle": "2023-10-24T14:19:47.652517Z",
     "shell.execute_reply": "2023-10-24T14:19:47.651785Z"
    },
    "papermill": {
     "duration": 0.347376,
     "end_time": "2023-10-24T14:19:47.654523",
     "exception": false,
     "start_time": "2023-10-24T14:19:47.307147",
     "status": "completed"
    },
    "tags": []
   },
   "outputs": [
    {
     "data": {
      "text/html": [
       "<div>\n",
       "<style scoped>\n",
       "    .dataframe tbody tr th:only-of-type {\n",
       "        vertical-align: middle;\n",
       "    }\n",
       "\n",
       "    .dataframe tbody tr th {\n",
       "        vertical-align: top;\n",
       "    }\n",
       "\n",
       "    .dataframe thead th {\n",
       "        text-align: right;\n",
       "    }\n",
       "</style>\n",
       "<table border=\"1\" class=\"dataframe\">\n",
       "  <thead>\n",
       "    <tr style=\"text-align: right;\">\n",
       "      <th></th>\n",
       "      <th>userid</th>\n",
       "      <th>sum_gamerounds</th>\n",
       "      <th>retention_1</th>\n",
       "      <th>retention_7</th>\n",
       "      <th>RET1_RET7</th>\n",
       "      <th>segment</th>\n",
       "    </tr>\n",
       "  </thead>\n",
       "  <tbody>\n",
       "    <tr>\n",
       "      <th>0</th>\n",
       "      <td>116</td>\n",
       "      <td>3</td>\n",
       "      <td>0</td>\n",
       "      <td>0</td>\n",
       "      <td>00</td>\n",
       "      <td>churn</td>\n",
       "    </tr>\n",
       "    <tr>\n",
       "      <th>1</th>\n",
       "      <td>337</td>\n",
       "      <td>38</td>\n",
       "      <td>1</td>\n",
       "      <td>0</td>\n",
       "      <td>10</td>\n",
       "      <td>churn after the first day</td>\n",
       "    </tr>\n",
       "    <tr>\n",
       "      <th>3</th>\n",
       "      <td>483</td>\n",
       "      <td>1</td>\n",
       "      <td>0</td>\n",
       "      <td>0</td>\n",
       "      <td>00</td>\n",
       "      <td>churn</td>\n",
       "    </tr>\n",
       "    <tr>\n",
       "      <th>7</th>\n",
       "      <td>1444</td>\n",
       "      <td>2</td>\n",
       "      <td>0</td>\n",
       "      <td>0</td>\n",
       "      <td>00</td>\n",
       "      <td>churn</td>\n",
       "    </tr>\n",
       "    <tr>\n",
       "      <th>8</th>\n",
       "      <td>1574</td>\n",
       "      <td>108</td>\n",
       "      <td>1</td>\n",
       "      <td>1</td>\n",
       "      <td>11</td>\n",
       "      <td>top users</td>\n",
       "    </tr>\n",
       "    <tr>\n",
       "      <th>...</th>\n",
       "      <td>...</td>\n",
       "      <td>...</td>\n",
       "      <td>...</td>\n",
       "      <td>...</td>\n",
       "      <td>...</td>\n",
       "      <td>...</td>\n",
       "    </tr>\n",
       "    <tr>\n",
       "      <th>90184</th>\n",
       "      <td>9999441</td>\n",
       "      <td>97</td>\n",
       "      <td>1</td>\n",
       "      <td>0</td>\n",
       "      <td>10</td>\n",
       "      <td>churn after the first day</td>\n",
       "    </tr>\n",
       "    <tr>\n",
       "      <th>90185</th>\n",
       "      <td>9999479</td>\n",
       "      <td>30</td>\n",
       "      <td>0</td>\n",
       "      <td>0</td>\n",
       "      <td>00</td>\n",
       "      <td>churn</td>\n",
       "    </tr>\n",
       "    <tr>\n",
       "      <th>90186</th>\n",
       "      <td>9999710</td>\n",
       "      <td>28</td>\n",
       "      <td>1</td>\n",
       "      <td>0</td>\n",
       "      <td>10</td>\n",
       "      <td>churn after the first day</td>\n",
       "    </tr>\n",
       "    <tr>\n",
       "      <th>90187</th>\n",
       "      <td>9999768</td>\n",
       "      <td>51</td>\n",
       "      <td>1</td>\n",
       "      <td>0</td>\n",
       "      <td>10</td>\n",
       "      <td>churn after the first day</td>\n",
       "    </tr>\n",
       "    <tr>\n",
       "      <th>90188</th>\n",
       "      <td>9999861</td>\n",
       "      <td>16</td>\n",
       "      <td>0</td>\n",
       "      <td>0</td>\n",
       "      <td>00</td>\n",
       "      <td>churn</td>\n",
       "    </tr>\n",
       "  </tbody>\n",
       "</table>\n",
       "<p>75919 rows × 6 columns</p>\n",
       "</div>"
      ],
      "text/plain": [
       "        userid  sum_gamerounds  retention_1  retention_7 RET1_RET7  \\\n",
       "0          116               3            0            0        00   \n",
       "1          337              38            1            0        10   \n",
       "3          483               1            0            0        00   \n",
       "7         1444               2            0            0        00   \n",
       "8         1574             108            1            1        11   \n",
       "...        ...             ...          ...          ...       ...   \n",
       "90184  9999441              97            1            0        10   \n",
       "90185  9999479              30            0            0        00   \n",
       "90186  9999710              28            1            0        10   \n",
       "90187  9999768              51            1            0        10   \n",
       "90188  9999861              16            0            0        00   \n",
       "\n",
       "                         segment  \n",
       "0                          churn  \n",
       "1      churn after the first day  \n",
       "3                          churn  \n",
       "7                          churn  \n",
       "8                      top users  \n",
       "...                          ...  \n",
       "90184  churn after the first day  \n",
       "90185                      churn  \n",
       "90186  churn after the first day  \n",
       "90187  churn after the first day  \n",
       "90188                      churn  \n",
       "\n",
       "[75919 rows x 6 columns]"
      ]
     },
     "execution_count": 21,
     "metadata": {},
     "output_type": "execute_result"
    }
   ],
   "source": [
    "df_without_outlier[\"segment\"] = df_without_outlier[\"RET1_RET7\"].replace(seg_map, regex=True)\n",
    "df_without_outlier"
   ]
  },
  {
   "cell_type": "markdown",
   "id": "4c2cb4b7",
   "metadata": {
    "papermill": {
     "duration": 0.013327,
     "end_time": "2023-10-24T14:19:47.680083",
     "exception": false,
     "start_time": "2023-10-24T14:19:47.666756",
     "status": "completed"
    },
    "tags": []
   },
   "source": [
    "This code performs various statistical summaries and calculations for a specific column, \"sum_gamerounds,\" within a DataFrame called \"df_without_outlier.\"\n",
    "\n",
    "First, it groups the data by the \"segment\" column and calculates statistical computations on the \"sum_gamerounds\" column:\n",
    "\n",
    "* 'mean': Calculates the mean of the \"sum_gamerounds\" column for each group.\n",
    "* 'median': Calculates the median of the \"sum_gamerounds\" column for each group.\n",
    "* 'std': Computes the standard deviation of the \"sum_gamerounds\" column for each group.\n",
    "\n",
    "These calculations are performed separately for each segment grouped by the \"segment\" column, and the results are stored in a DataFrame named \"stats.\"\n",
    "\n",
    "Next, it groups the data again by the \"segment\" column and calculates detailed statistical summaries for the \"sum_gamerounds\" column using the describe() function. These summaries include information about the distribution, central tendencies, and spreads of the groups. The results are stored in a DataFrame named \"describe.\"\n",
    "\n",
    "To determine the number of data points in each group within the \"segment\" column, it uses the \"value_counts()\" function. The counts are stored in a Series named \"count.\"\n",
    "\n",
    "The function gathers the results into a dictionary and returns it. The dictionary contains the relevant calculations and data under keys such as \"mean,\" \"median,\" \"std,\" \"describe,\" and \"count.\" This allows you to access different statistical summaries for the \"sum_gamerounds\" column for each \"segment.\""
   ]
  },
  {
   "cell_type": "code",
   "execution_count": 22,
   "id": "5e1b5b5f",
   "metadata": {
    "execution": {
     "iopub.execute_input": "2023-10-24T14:19:47.707855Z",
     "iopub.status.busy": "2023-10-24T14:19:47.707508Z",
     "iopub.status.idle": "2023-10-24T14:19:47.714686Z",
     "shell.execute_reply": "2023-10-24T14:19:47.713096Z"
    },
    "papermill": {
     "duration": 0.02312,
     "end_time": "2023-10-24T14:19:47.717138",
     "exception": false,
     "start_time": "2023-10-24T14:19:47.694018",
     "status": "completed"
    },
    "tags": []
   },
   "outputs": [],
   "source": [
    "def calculate_segment_stats(df):\n",
    "    \n",
    "    stats = df_without_outlier.groupby('segment')['sum_gamerounds'].agg(['mean', 'median', 'std'])\n",
    "    \n",
    "   \n",
    "    describe = df_without_outlier.groupby('segment')['sum_gamerounds'].describe().T\n",
    "    \n",
    "    \n",
    "    count = df_without_outlier['segment'].value_counts()\n",
    "    \n",
    "    return {\n",
    "        'mean': stats['mean'],\n",
    "        'median': stats['median'],\n",
    "        'std': stats['std'],\n",
    "        'describe': describe,\n",
    "        'count': count\n",
    "    }\n"
   ]
  },
  {
   "cell_type": "code",
   "execution_count": 23,
   "id": "3d7d1a51",
   "metadata": {
    "execution": {
     "iopub.execute_input": "2023-10-24T14:19:47.743566Z",
     "iopub.status.busy": "2023-10-24T14:19:47.743196Z",
     "iopub.status.idle": "2023-10-24T14:19:47.784717Z",
     "shell.execute_reply": "2023-10-24T14:19:47.783922Z"
    },
    "papermill": {
     "duration": 0.057282,
     "end_time": "2023-10-24T14:19:47.786907",
     "exception": false,
     "start_time": "2023-10-24T14:19:47.729625",
     "status": "completed"
    },
    "tags": []
   },
   "outputs": [],
   "source": [
    "dictionary = calculate_segment_stats(df_without_outlier)"
   ]
  },
  {
   "cell_type": "code",
   "execution_count": 24,
   "id": "f7b067eb",
   "metadata": {
    "execution": {
     "iopub.execute_input": "2023-10-24T14:19:47.813399Z",
     "iopub.status.busy": "2023-10-24T14:19:47.813019Z",
     "iopub.status.idle": "2023-10-24T14:19:47.822303Z",
     "shell.execute_reply": "2023-10-24T14:19:47.820998Z"
    },
    "papermill": {
     "duration": 0.025403,
     "end_time": "2023-10-24T14:19:47.824765",
     "exception": false,
     "start_time": "2023-10-24T14:19:47.799362",
     "status": "completed"
    },
    "tags": []
   },
   "outputs": [
    {
     "name": "stdout",
     "output_type": "stream",
     "text": [
      "segment\n",
      "01                          40.98588\n",
      "churn                       11.83356\n",
      "churn after the first day   36.48249\n",
      "top users                   63.63541\n",
      "Name: mean, dtype: float64\n",
      "\n",
      "\n",
      "segment\n",
      "01                          34.00000\n",
      "churn                        6.00000\n",
      "churn after the first day   29.00000\n",
      "top users                   63.00000\n",
      "Name: median, dtype: float64\n",
      "\n",
      "\n",
      "segment\n",
      "01                          30.46891\n",
      "churn                       15.06498\n",
      "churn after the first day   27.44953\n",
      "top users                   30.86842\n",
      "Name: std, dtype: float64\n",
      "\n",
      "\n",
      "segment         01       churn  churn after the first day  top users\n",
      "count   2904.00000 42285.00000                24608.00000 6122.00000\n",
      "mean      40.98588    11.83356                   36.48249   63.63541\n",
      "std       30.46891    15.06498                   27.44953   30.86842\n",
      "min        1.00000     1.00000                    1.00000    1.00000\n",
      "25%       16.00000     3.00000                   15.00000   39.00000\n",
      "50%       34.00000     6.00000                   29.00000   63.00000\n",
      "75%       61.00000    15.00000                   51.00000   89.00000\n",
      "max      119.00000   119.00000                  119.00000  119.00000\n",
      "\n",
      "\n",
      "segment\n",
      "churn                        42285\n",
      "churn after the first day    24608\n",
      "top users                     6122\n",
      "01                            2904\n",
      "Name: count, dtype: int64\n",
      "\n",
      "\n"
     ]
    }
   ],
   "source": [
    "for k,v in dictionary.items():\n",
    "    print(v)\n",
    "    print(\"\\n\")"
   ]
  },
  {
   "cell_type": "markdown",
   "id": "74d6deec",
   "metadata": {
    "papermill": {
     "duration": 0.012194,
     "end_time": "2023-10-24T14:19:47.849839",
     "exception": false,
     "start_time": "2023-10-24T14:19:47.837645",
     "status": "completed"
    },
    "tags": []
   },
   "source": [
    "* Let's consider that a gaming company wants to give 2000 coins as a gift to users who churn after the first day. After defining our target users as those who churn after the first day, I created a variable called \"give_a_gift.\""
   ]
  },
  {
   "cell_type": "code",
   "execution_count": 25,
   "id": "ee8fa38c",
   "metadata": {
    "execution": {
     "iopub.execute_input": "2023-10-24T14:19:47.875862Z",
     "iopub.status.busy": "2023-10-24T14:19:47.875520Z",
     "iopub.status.idle": "2023-10-24T14:19:47.895615Z",
     "shell.execute_reply": "2023-10-24T14:19:47.894376Z"
    },
    "papermill": {
     "duration": 0.035582,
     "end_time": "2023-10-24T14:19:47.897718",
     "exception": false,
     "start_time": "2023-10-24T14:19:47.862136",
     "status": "completed"
    },
    "tags": []
   },
   "outputs": [
    {
     "data": {
      "text/html": [
       "<div>\n",
       "<style scoped>\n",
       "    .dataframe tbody tr th:only-of-type {\n",
       "        vertical-align: middle;\n",
       "    }\n",
       "\n",
       "    .dataframe tbody tr th {\n",
       "        vertical-align: top;\n",
       "    }\n",
       "\n",
       "    .dataframe thead th {\n",
       "        text-align: right;\n",
       "    }\n",
       "</style>\n",
       "<table border=\"1\" class=\"dataframe\">\n",
       "  <thead>\n",
       "    <tr style=\"text-align: right;\">\n",
       "      <th></th>\n",
       "      <th>userid</th>\n",
       "      <th>sum_gamerounds</th>\n",
       "      <th>retention_1</th>\n",
       "      <th>retention_7</th>\n",
       "      <th>RET1_RET7</th>\n",
       "      <th>segment</th>\n",
       "    </tr>\n",
       "  </thead>\n",
       "  <tbody>\n",
       "    <tr>\n",
       "      <th>1</th>\n",
       "      <td>337</td>\n",
       "      <td>38</td>\n",
       "      <td>1</td>\n",
       "      <td>0</td>\n",
       "      <td>10</td>\n",
       "      <td>churn after the first day</td>\n",
       "    </tr>\n",
       "    <tr>\n",
       "      <th>12</th>\n",
       "      <td>2132</td>\n",
       "      <td>30</td>\n",
       "      <td>1</td>\n",
       "      <td>0</td>\n",
       "      <td>10</td>\n",
       "      <td>churn after the first day</td>\n",
       "    </tr>\n",
       "    <tr>\n",
       "      <th>13</th>\n",
       "      <td>2179</td>\n",
       "      <td>39</td>\n",
       "      <td>1</td>\n",
       "      <td>0</td>\n",
       "      <td>10</td>\n",
       "      <td>churn after the first day</td>\n",
       "    </tr>\n",
       "    <tr>\n",
       "      <th>15</th>\n",
       "      <td>2382</td>\n",
       "      <td>73</td>\n",
       "      <td>1</td>\n",
       "      <td>0</td>\n",
       "      <td>10</td>\n",
       "      <td>churn after the first day</td>\n",
       "    </tr>\n",
       "    <tr>\n",
       "      <th>16</th>\n",
       "      <td>2392</td>\n",
       "      <td>14</td>\n",
       "      <td>1</td>\n",
       "      <td>0</td>\n",
       "      <td>10</td>\n",
       "      <td>churn after the first day</td>\n",
       "    </tr>\n",
       "    <tr>\n",
       "      <th>...</th>\n",
       "      <td>...</td>\n",
       "      <td>...</td>\n",
       "      <td>...</td>\n",
       "      <td>...</td>\n",
       "      <td>...</td>\n",
       "      <td>...</td>\n",
       "    </tr>\n",
       "    <tr>\n",
       "      <th>90181</th>\n",
       "      <td>9998733</td>\n",
       "      <td>10</td>\n",
       "      <td>1</td>\n",
       "      <td>0</td>\n",
       "      <td>10</td>\n",
       "      <td>churn after the first day</td>\n",
       "    </tr>\n",
       "    <tr>\n",
       "      <th>90182</th>\n",
       "      <td>9999178</td>\n",
       "      <td>21</td>\n",
       "      <td>1</td>\n",
       "      <td>0</td>\n",
       "      <td>10</td>\n",
       "      <td>churn after the first day</td>\n",
       "    </tr>\n",
       "    <tr>\n",
       "      <th>90184</th>\n",
       "      <td>9999441</td>\n",
       "      <td>97</td>\n",
       "      <td>1</td>\n",
       "      <td>0</td>\n",
       "      <td>10</td>\n",
       "      <td>churn after the first day</td>\n",
       "    </tr>\n",
       "    <tr>\n",
       "      <th>90186</th>\n",
       "      <td>9999710</td>\n",
       "      <td>28</td>\n",
       "      <td>1</td>\n",
       "      <td>0</td>\n",
       "      <td>10</td>\n",
       "      <td>churn after the first day</td>\n",
       "    </tr>\n",
       "    <tr>\n",
       "      <th>90187</th>\n",
       "      <td>9999768</td>\n",
       "      <td>51</td>\n",
       "      <td>1</td>\n",
       "      <td>0</td>\n",
       "      <td>10</td>\n",
       "      <td>churn after the first day</td>\n",
       "    </tr>\n",
       "  </tbody>\n",
       "</table>\n",
       "<p>24608 rows × 6 columns</p>\n",
       "</div>"
      ],
      "text/plain": [
       "        userid  sum_gamerounds  retention_1  retention_7 RET1_RET7  \\\n",
       "1          337              38            1            0        10   \n",
       "12        2132              30            1            0        10   \n",
       "13        2179              39            1            0        10   \n",
       "15        2382              73            1            0        10   \n",
       "16        2392              14            1            0        10   \n",
       "...        ...             ...          ...          ...       ...   \n",
       "90181  9998733              10            1            0        10   \n",
       "90182  9999178              21            1            0        10   \n",
       "90184  9999441              97            1            0        10   \n",
       "90186  9999710              28            1            0        10   \n",
       "90187  9999768              51            1            0        10   \n",
       "\n",
       "                         segment  \n",
       "1      churn after the first day  \n",
       "12     churn after the first day  \n",
       "13     churn after the first day  \n",
       "15     churn after the first day  \n",
       "16     churn after the first day  \n",
       "...                          ...  \n",
       "90181  churn after the first day  \n",
       "90182  churn after the first day  \n",
       "90184  churn after the first day  \n",
       "90186  churn after the first day  \n",
       "90187  churn after the first day  \n",
       "\n",
       "[24608 rows x 6 columns]"
      ]
     },
     "execution_count": 25,
     "metadata": {},
     "output_type": "execute_result"
    }
   ],
   "source": [
    "target_users = df_without_outlier[df_without_outlier[\"segment\"] == \"churn after the first day\"]\n",
    "target_users"
   ]
  },
  {
   "cell_type": "code",
   "execution_count": 26,
   "id": "8bd43eff",
   "metadata": {
    "execution": {
     "iopub.execute_input": "2023-10-24T14:19:47.924222Z",
     "iopub.status.busy": "2023-10-24T14:19:47.923831Z",
     "iopub.status.idle": "2023-10-24T14:19:47.940585Z",
     "shell.execute_reply": "2023-10-24T14:19:47.939562Z"
    },
    "papermill": {
     "duration": 0.033207,
     "end_time": "2023-10-24T14:19:47.943436",
     "exception": false,
     "start_time": "2023-10-24T14:19:47.910229",
     "status": "completed"
    },
    "tags": []
   },
   "outputs": [
    {
     "data": {
      "text/html": [
       "<div>\n",
       "<style scoped>\n",
       "    .dataframe tbody tr th:only-of-type {\n",
       "        vertical-align: middle;\n",
       "    }\n",
       "\n",
       "    .dataframe tbody tr th {\n",
       "        vertical-align: top;\n",
       "    }\n",
       "\n",
       "    .dataframe thead th {\n",
       "        text-align: right;\n",
       "    }\n",
       "</style>\n",
       "<table border=\"1\" class=\"dataframe\">\n",
       "  <thead>\n",
       "    <tr style=\"text-align: right;\">\n",
       "      <th></th>\n",
       "      <th>userid</th>\n",
       "      <th>sum_gamerounds</th>\n",
       "      <th>retention_1</th>\n",
       "      <th>retention_7</th>\n",
       "      <th>RET1_RET7</th>\n",
       "      <th>segment</th>\n",
       "      <th>give a gift</th>\n",
       "    </tr>\n",
       "  </thead>\n",
       "  <tbody>\n",
       "    <tr>\n",
       "      <th>1</th>\n",
       "      <td>337</td>\n",
       "      <td>38</td>\n",
       "      <td>1</td>\n",
       "      <td>0</td>\n",
       "      <td>10</td>\n",
       "      <td>churn after the first day</td>\n",
       "      <td>2000 coins</td>\n",
       "    </tr>\n",
       "    <tr>\n",
       "      <th>12</th>\n",
       "      <td>2132</td>\n",
       "      <td>30</td>\n",
       "      <td>1</td>\n",
       "      <td>0</td>\n",
       "      <td>10</td>\n",
       "      <td>churn after the first day</td>\n",
       "      <td>2000 coins</td>\n",
       "    </tr>\n",
       "    <tr>\n",
       "      <th>13</th>\n",
       "      <td>2179</td>\n",
       "      <td>39</td>\n",
       "      <td>1</td>\n",
       "      <td>0</td>\n",
       "      <td>10</td>\n",
       "      <td>churn after the first day</td>\n",
       "      <td>2000 coins</td>\n",
       "    </tr>\n",
       "    <tr>\n",
       "      <th>15</th>\n",
       "      <td>2382</td>\n",
       "      <td>73</td>\n",
       "      <td>1</td>\n",
       "      <td>0</td>\n",
       "      <td>10</td>\n",
       "      <td>churn after the first day</td>\n",
       "      <td>2000 coins</td>\n",
       "    </tr>\n",
       "    <tr>\n",
       "      <th>16</th>\n",
       "      <td>2392</td>\n",
       "      <td>14</td>\n",
       "      <td>1</td>\n",
       "      <td>0</td>\n",
       "      <td>10</td>\n",
       "      <td>churn after the first day</td>\n",
       "      <td>2000 coins</td>\n",
       "    </tr>\n",
       "    <tr>\n",
       "      <th>...</th>\n",
       "      <td>...</td>\n",
       "      <td>...</td>\n",
       "      <td>...</td>\n",
       "      <td>...</td>\n",
       "      <td>...</td>\n",
       "      <td>...</td>\n",
       "      <td>...</td>\n",
       "    </tr>\n",
       "    <tr>\n",
       "      <th>90181</th>\n",
       "      <td>9998733</td>\n",
       "      <td>10</td>\n",
       "      <td>1</td>\n",
       "      <td>0</td>\n",
       "      <td>10</td>\n",
       "      <td>churn after the first day</td>\n",
       "      <td>2000 coins</td>\n",
       "    </tr>\n",
       "    <tr>\n",
       "      <th>90182</th>\n",
       "      <td>9999178</td>\n",
       "      <td>21</td>\n",
       "      <td>1</td>\n",
       "      <td>0</td>\n",
       "      <td>10</td>\n",
       "      <td>churn after the first day</td>\n",
       "      <td>2000 coins</td>\n",
       "    </tr>\n",
       "    <tr>\n",
       "      <th>90184</th>\n",
       "      <td>9999441</td>\n",
       "      <td>97</td>\n",
       "      <td>1</td>\n",
       "      <td>0</td>\n",
       "      <td>10</td>\n",
       "      <td>churn after the first day</td>\n",
       "      <td>2000 coins</td>\n",
       "    </tr>\n",
       "    <tr>\n",
       "      <th>90186</th>\n",
       "      <td>9999710</td>\n",
       "      <td>28</td>\n",
       "      <td>1</td>\n",
       "      <td>0</td>\n",
       "      <td>10</td>\n",
       "      <td>churn after the first day</td>\n",
       "      <td>2000 coins</td>\n",
       "    </tr>\n",
       "    <tr>\n",
       "      <th>90187</th>\n",
       "      <td>9999768</td>\n",
       "      <td>51</td>\n",
       "      <td>1</td>\n",
       "      <td>0</td>\n",
       "      <td>10</td>\n",
       "      <td>churn after the first day</td>\n",
       "      <td>2000 coins</td>\n",
       "    </tr>\n",
       "  </tbody>\n",
       "</table>\n",
       "<p>24608 rows × 7 columns</p>\n",
       "</div>"
      ],
      "text/plain": [
       "        userid  sum_gamerounds  retention_1  retention_7 RET1_RET7  \\\n",
       "1          337              38            1            0        10   \n",
       "12        2132              30            1            0        10   \n",
       "13        2179              39            1            0        10   \n",
       "15        2382              73            1            0        10   \n",
       "16        2392              14            1            0        10   \n",
       "...        ...             ...          ...          ...       ...   \n",
       "90181  9998733              10            1            0        10   \n",
       "90182  9999178              21            1            0        10   \n",
       "90184  9999441              97            1            0        10   \n",
       "90186  9999710              28            1            0        10   \n",
       "90187  9999768              51            1            0        10   \n",
       "\n",
       "                         segment give a gift  \n",
       "1      churn after the first day  2000 coins  \n",
       "12     churn after the first day  2000 coins  \n",
       "13     churn after the first day  2000 coins  \n",
       "15     churn after the first day  2000 coins  \n",
       "16     churn after the first day  2000 coins  \n",
       "...                          ...         ...  \n",
       "90181  churn after the first day  2000 coins  \n",
       "90182  churn after the first day  2000 coins  \n",
       "90184  churn after the first day  2000 coins  \n",
       "90186  churn after the first day  2000 coins  \n",
       "90187  churn after the first day  2000 coins  \n",
       "\n",
       "[24608 rows x 7 columns]"
      ]
     },
     "execution_count": 26,
     "metadata": {},
     "output_type": "execute_result"
    }
   ],
   "source": [
    "target_users[\"give a gift\"] = \"2000 coins\"\n",
    "target_users"
   ]
  }
 ],
 "metadata": {
  "kernelspec": {
   "display_name": "Python 3",
   "language": "python",
   "name": "python3"
  },
  "language_info": {
   "codemirror_mode": {
    "name": "ipython",
    "version": 3
   },
   "file_extension": ".py",
   "mimetype": "text/x-python",
   "name": "python",
   "nbconvert_exporter": "python",
   "pygments_lexer": "ipython3",
   "version": "3.10.12"
  },
  "papermill": {
   "default_parameters": {},
   "duration": 9.000335,
   "end_time": "2023-10-24T14:19:48.580444",
   "environment_variables": {},
   "exception": null,
   "input_path": "__notebook__.ipynb",
   "output_path": "__notebook__.ipynb",
   "parameters": {},
   "start_time": "2023-10-24T14:19:39.580109",
   "version": "2.4.0"
  }
 },
 "nbformat": 4,
 "nbformat_minor": 5
}
