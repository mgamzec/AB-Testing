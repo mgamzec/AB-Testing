{
 "cells": [
  {
   "cell_type": "code",
   "execution_count": null,
   "id": "f5cb45d9",
   "metadata": {},
   "outputs": [],
   "source": [
    "# AB Testi ile Bidding Yöntemlerinin Dönüşümünün Karşılaştırılması\n",
    "\n",
    "# İş Problemi\n",
    "\n",
    "\"\"\"\n",
    "- Facebook kısa süre önce mevcut \"maximum bidding\" adı verilen \n",
    "teklif verme türüne alternatif olarak yeni bir teklif türü olan \n",
    "\"average bidding\"’i tanıttı. \n",
    "\n",
    "- Müşterilerimizden biri olan bombabomba.com, bu yeni özelliği test \n",
    "etmeye karar verdi ve average bidding'in maximum bidding'den\n",
    "daha fazla dönüşüm getirip getirmediğini anlamak için bir A/B \n",
    "testi yapmak istiyor.\n",
    " \n",
    "- A/B testi 1 aydır devam ediyor ve bombabomba.com şimdi sizden \n",
    "bu A/B testinin sonuçlarını analiz etmenizi bekliyor.\n",
    "Bombabomba.com için nihai başarı ölçütü Purchase'dır. Bu \n",
    "nedenle, istatistiksel testler için Purchase metriğine \n",
    "odaklanılmalıdır.\n",
    "\"\"\""
   ]
  },
  {
   "cell_type": "code",
   "execution_count": null,
   "id": "73be6c3c",
   "metadata": {},
   "outputs": [],
   "source": [
    "# Veri Seti Hikayesi\n",
    "\n",
    "\"\"\"Bir firmanın web site bilgilerini içeren bu veri setinde kullanıcıların gördükleri ve tıkladıkları reklam sayıları gibi bilgilerin yanı sıra \n",
    "buradan gelen kazanç bilgileri yer almaktadır. Kontrol ve Test grubu olmak üzere iki ayrı veri seti vardır. Bu veri setleri\n",
    "ab_testing.xlsx excel’inin ayrı sayfalarında yer almaktadır. Kontrol grubuna Maximum Bidding, test grubuna Average\n",
    "Bidding uygulanmıştır\"\"\"\n",
    "\n",
    "# Variables:\n",
    "\n",
    "# Impression: Reklam görüntüleme sayısı\n",
    "# Click: Görüntülenen reklama tıklama sayısı\n",
    "# Purchase: Tıklanan reklamlar sonrası satın alınan ürün sayısı\n",
    "# Earning: Satın alınan ürünler sonrası elde edilen kazanç"
   ]
  },
  {
   "cell_type": "code",
   "execution_count": 73,
   "id": "789c3b12",
   "metadata": {},
   "outputs": [],
   "source": [
    "import itertools\n",
    "import numpy as np\n",
    "import pandas as pd\n",
    "import matplotlib.pyplot as plt\n",
    "import seaborn as sns\n",
    "# !pip install statsmodels\n",
    "import statsmodels.stats.api as sms\n",
    "from scipy.stats import ttest_1samp, shapiro, levene, ttest_ind, mannwhitneyu, \\\n",
    "    pearsonr, spearmanr, kendalltau, f_oneway, kruskal\n",
    "from statsmodels.stats.proportion import proportions_ztest\n",
    "\n",
    "pd.set_option('display.max_columns', None)\n",
    "pd.set_option('display.max_rows', 10)\n",
    "pd.set_option('display.float_format', lambda x: '%.5f' % x)"
   ]
  },
  {
   "cell_type": "code",
   "execution_count": 74,
   "id": "391e9810",
   "metadata": {},
   "outputs": [
    {
     "data": {
      "text/html": [
       "<div>\n",
       "<style scoped>\n",
       "    .dataframe tbody tr th:only-of-type {\n",
       "        vertical-align: middle;\n",
       "    }\n",
       "\n",
       "    .dataframe tbody tr th {\n",
       "        vertical-align: top;\n",
       "    }\n",
       "\n",
       "    .dataframe thead th {\n",
       "        text-align: right;\n",
       "    }\n",
       "</style>\n",
       "<table border=\"1\" class=\"dataframe\">\n",
       "  <thead>\n",
       "    <tr style=\"text-align: right;\">\n",
       "      <th></th>\n",
       "      <th>Impression</th>\n",
       "      <th>Click</th>\n",
       "      <th>Purchase</th>\n",
       "      <th>Earning</th>\n",
       "    </tr>\n",
       "  </thead>\n",
       "  <tbody>\n",
       "    <tr>\n",
       "      <th>0</th>\n",
       "      <td>82529.45927</td>\n",
       "      <td>6090.07732</td>\n",
       "      <td>665.21125</td>\n",
       "      <td>2311.27714</td>\n",
       "    </tr>\n",
       "    <tr>\n",
       "      <th>1</th>\n",
       "      <td>98050.45193</td>\n",
       "      <td>3382.86179</td>\n",
       "      <td>315.08489</td>\n",
       "      <td>1742.80686</td>\n",
       "    </tr>\n",
       "    <tr>\n",
       "      <th>2</th>\n",
       "      <td>82696.02355</td>\n",
       "      <td>4167.96575</td>\n",
       "      <td>458.08374</td>\n",
       "      <td>1797.82745</td>\n",
       "    </tr>\n",
       "    <tr>\n",
       "      <th>3</th>\n",
       "      <td>109914.40040</td>\n",
       "      <td>4910.88224</td>\n",
       "      <td>487.09077</td>\n",
       "      <td>1696.22918</td>\n",
       "    </tr>\n",
       "    <tr>\n",
       "      <th>4</th>\n",
       "      <td>108457.76263</td>\n",
       "      <td>5987.65581</td>\n",
       "      <td>441.03405</td>\n",
       "      <td>1543.72018</td>\n",
       "    </tr>\n",
       "  </tbody>\n",
       "</table>\n",
       "</div>"
      ],
      "text/plain": [
       "    Impression      Click  Purchase    Earning\n",
       "0  82529.45927 6090.07732 665.21125 2311.27714\n",
       "1  98050.45193 3382.86179 315.08489 1742.80686\n",
       "2  82696.02355 4167.96575 458.08374 1797.82745\n",
       "3 109914.40040 4910.88224 487.09077 1696.22918\n",
       "4 108457.76263 5987.65581 441.03405 1543.72018"
      ]
     },
     "execution_count": 74,
     "metadata": {},
     "output_type": "execute_result"
    }
   ],
   "source": [
    "# Görev 1: Veriyi Hazırlama ve Analiz Etme\n",
    "\n",
    "# Adım 1: ab_testing_data.xlsx adlı kontrol ve test grubu verilerinden oluşan veri setini okutunuz. Kontrol ve test grubu verilerini ayrı değişkenlere atayınız\n",
    "\n",
    "df_control = pd.read_excel(\"C:/Users/merve/Documents/AB/datasets/week6/ab_testing.xlsx\", sheet_name=\"Control Group\")\n",
    "df_control.head()"
   ]
  },
  {
   "cell_type": "code",
   "execution_count": 75,
   "id": "aa71ec1b",
   "metadata": {},
   "outputs": [
    {
     "data": {
      "text/html": [
       "<div>\n",
       "<style scoped>\n",
       "    .dataframe tbody tr th:only-of-type {\n",
       "        vertical-align: middle;\n",
       "    }\n",
       "\n",
       "    .dataframe tbody tr th {\n",
       "        vertical-align: top;\n",
       "    }\n",
       "\n",
       "    .dataframe thead th {\n",
       "        text-align: right;\n",
       "    }\n",
       "</style>\n",
       "<table border=\"1\" class=\"dataframe\">\n",
       "  <thead>\n",
       "    <tr style=\"text-align: right;\">\n",
       "      <th></th>\n",
       "      <th>Impression</th>\n",
       "      <th>Click</th>\n",
       "      <th>Purchase</th>\n",
       "      <th>Earning</th>\n",
       "    </tr>\n",
       "  </thead>\n",
       "  <tbody>\n",
       "    <tr>\n",
       "      <th>0</th>\n",
       "      <td>120103.50380</td>\n",
       "      <td>3216.54796</td>\n",
       "      <td>702.16035</td>\n",
       "      <td>1939.61124</td>\n",
       "    </tr>\n",
       "    <tr>\n",
       "      <th>1</th>\n",
       "      <td>134775.94336</td>\n",
       "      <td>3635.08242</td>\n",
       "      <td>834.05429</td>\n",
       "      <td>2929.40582</td>\n",
       "    </tr>\n",
       "    <tr>\n",
       "      <th>2</th>\n",
       "      <td>107806.62079</td>\n",
       "      <td>3057.14356</td>\n",
       "      <td>422.93426</td>\n",
       "      <td>2526.24488</td>\n",
       "    </tr>\n",
       "    <tr>\n",
       "      <th>3</th>\n",
       "      <td>116445.27553</td>\n",
       "      <td>4650.47391</td>\n",
       "      <td>429.03353</td>\n",
       "      <td>2281.42857</td>\n",
       "    </tr>\n",
       "    <tr>\n",
       "      <th>4</th>\n",
       "      <td>145082.51684</td>\n",
       "      <td>5201.38772</td>\n",
       "      <td>749.86044</td>\n",
       "      <td>2781.69752</td>\n",
       "    </tr>\n",
       "  </tbody>\n",
       "</table>\n",
       "</div>"
      ],
      "text/plain": [
       "    Impression      Click  Purchase    Earning\n",
       "0 120103.50380 3216.54796 702.16035 1939.61124\n",
       "1 134775.94336 3635.08242 834.05429 2929.40582\n",
       "2 107806.62079 3057.14356 422.93426 2526.24488\n",
       "3 116445.27553 4650.47391 429.03353 2281.42857\n",
       "4 145082.51684 5201.38772 749.86044 2781.69752"
      ]
     },
     "execution_count": 75,
     "metadata": {},
     "output_type": "execute_result"
    }
   ],
   "source": [
    "df_test = pd.read_excel(\"C:/Users/merve/Documents/AB/datasets/week6/ab_testing.xlsx\", sheet_name=\"Test Group\")\n",
    "df_test.head()"
   ]
  },
  {
   "cell_type": "code",
   "execution_count": 76,
   "id": "410977ef",
   "metadata": {},
   "outputs": [],
   "source": [
    "# Adım 2: Kontrol ve test grubu verilerini analiz ediniz\n",
    "\n",
    "def check_df(dataframe, head=5):\n",
    "    print(\"##################### Shape #####################\")\n",
    "    print(dataframe.shape)\n",
    "    print(\"##################### Types #####################\")\n",
    "    print(dataframe.dtypes)\n",
    "    print(\"##################### Head #####################\")\n",
    "    print(dataframe.head())\n",
    "    print(\"##################### NA #####################\")\n",
    "    print(dataframe.isnull().sum())\n",
    "    print(\"##################### Describe #####################\")\n",
    "    print(dataframe.describe().T)\n",
    "    print(\"##################### Quantiles #####################\")\n",
    "    print(dataframe.quantile([0, 0.05, 0.50, 0.95, 0.99, 1]).T)"
   ]
  },
  {
   "cell_type": "code",
   "execution_count": 77,
   "id": "fa9e8417",
   "metadata": {},
   "outputs": [
    {
     "name": "stdout",
     "output_type": "stream",
     "text": [
      "##################### Shape #####################\n",
      "(40, 4)\n",
      "##################### Types #####################\n",
      "Impression    float64\n",
      "Click         float64\n",
      "Purchase      float64\n",
      "Earning       float64\n",
      "dtype: object\n",
      "##################### Head #####################\n",
      "    Impression      Click  Purchase    Earning\n",
      "0  82529.45927 6090.07732 665.21125 2311.27714\n",
      "1  98050.45193 3382.86179 315.08489 1742.80686\n",
      "2  82696.02355 4167.96575 458.08374 1797.82745\n",
      "3 109914.40040 4910.88224 487.09077 1696.22918\n",
      "4 108457.76263 5987.65581 441.03405 1543.72018\n",
      "##################### NA #####################\n",
      "Impression    0\n",
      "Click         0\n",
      "Purchase      0\n",
      "Earning       0\n",
      "dtype: int64\n",
      "##################### Describe #####################\n",
      "              count         mean         std         min         25%  \\\n",
      "Impression 40.00000 101711.44907 20302.15786 45475.94296 85726.69035   \n",
      "Click      40.00000   5100.65737  1329.98550  2189.75316  4124.30413   \n",
      "Purchase   40.00000    550.89406   134.10820   267.02894   470.09553   \n",
      "Earning    40.00000   1908.56830   302.91778  1253.98952  1685.84720   \n",
      "\n",
      "                   50%          75%          max  \n",
      "Impression 99790.70108 115212.81654 147539.33633  \n",
      "Click       5001.22060   5923.80360   7959.12507  \n",
      "Purchase     531.20631    637.95709    801.79502  \n",
      "Earning     1975.16052   2119.80278   2497.29522  \n",
      "##################### Quantiles #####################\n",
      "               0.00000     0.05000     0.50000      0.95000      0.99000  \\\n",
      "Impression 45475.94296 79412.01792 99790.70108 132950.53245 143105.79110   \n",
      "Click       2189.75316  3367.48426  5001.22060   7374.36120   7761.79511   \n",
      "Purchase     267.02894   328.66242   531.20631    748.27076    790.18779   \n",
      "Earning     1253.98952  1329.57708  1975.16052   2318.52850   2481.30874   \n",
      "\n",
      "                1.00000  \n",
      "Impression 147539.33633  \n",
      "Click        7959.12507  \n",
      "Purchase      801.79502  \n",
      "Earning      2497.29522  \n"
     ]
    }
   ],
   "source": [
    "check_df(df_control)"
   ]
  },
  {
   "cell_type": "code",
   "execution_count": 78,
   "id": "2001efa4",
   "metadata": {},
   "outputs": [
    {
     "name": "stdout",
     "output_type": "stream",
     "text": [
      "##################### Shape #####################\n",
      "(40, 4)\n",
      "##################### Types #####################\n",
      "Impression    float64\n",
      "Click         float64\n",
      "Purchase      float64\n",
      "Earning       float64\n",
      "dtype: object\n",
      "##################### Head #####################\n",
      "    Impression      Click  Purchase    Earning\n",
      "0 120103.50380 3216.54796 702.16035 1939.61124\n",
      "1 134775.94336 3635.08242 834.05429 2929.40582\n",
      "2 107806.62079 3057.14356 422.93426 2526.24488\n",
      "3 116445.27553 4650.47391 429.03353 2281.42857\n",
      "4 145082.51684 5201.38772 749.86044 2781.69752\n",
      "##################### NA #####################\n",
      "Impression    0\n",
      "Click         0\n",
      "Purchase      0\n",
      "Earning       0\n",
      "dtype: int64\n",
      "##################### Describe #####################\n",
      "              count         mean         std         min          25%  \\\n",
      "Impression 40.00000 120512.41176 18807.44871 79033.83492 112691.97077   \n",
      "Click      40.00000   3967.54976   923.09507  1836.62986   3376.81902   \n",
      "Purchase   40.00000    582.10610   161.15251   311.62952    444.62683   \n",
      "Earning    40.00000   2514.89073   282.73085  1939.61124   2280.53743   \n",
      "\n",
      "                    50%          75%          max  \n",
      "Impression 119291.30077 132050.57893 158605.92048  \n",
      "Click        3931.35980   4660.49791   6019.69508  \n",
      "Purchase      551.35573    699.86236    889.91046  \n",
      "Earning      2544.66611   2761.54540   3171.48971  \n",
      "##################### Quantiles #####################\n",
      "               0.00000     0.05000      0.50000      0.95000      0.99000  \\\n",
      "Impression 79033.83492 83150.50378 119291.30077 153178.69106 158245.26380   \n",
      "Click       1836.62986  2600.36102   3931.35980   5271.18691   6012.87730   \n",
      "Purchase     311.62952   356.69540    551.35573    854.20895    876.57610   \n",
      "Earning     1939.61124  2080.97621   2544.66611   2931.31145   3091.94089   \n",
      "\n",
      "                1.00000  \n",
      "Impression 158605.92048  \n",
      "Click        6019.69508  \n",
      "Purchase      889.91046  \n",
      "Earning      3171.48971  \n"
     ]
    }
   ],
   "source": [
    "check_df(df_test)"
   ]
  },
  {
   "cell_type": "code",
   "execution_count": 79,
   "id": "3e8340c0",
   "metadata": {
    "scrolled": true
   },
   "outputs": [
    {
     "data": {
      "text/html": [
       "<div>\n",
       "<style scoped>\n",
       "    .dataframe tbody tr th:only-of-type {\n",
       "        vertical-align: middle;\n",
       "    }\n",
       "\n",
       "    .dataframe tbody tr th {\n",
       "        vertical-align: top;\n",
       "    }\n",
       "\n",
       "    .dataframe thead th {\n",
       "        text-align: right;\n",
       "    }\n",
       "</style>\n",
       "<table border=\"1\" class=\"dataframe\">\n",
       "  <thead>\n",
       "    <tr style=\"text-align: right;\">\n",
       "      <th></th>\n",
       "      <th>Impression</th>\n",
       "      <th>Click</th>\n",
       "      <th>Purchase</th>\n",
       "      <th>Earning</th>\n",
       "      <th>group</th>\n",
       "    </tr>\n",
       "  </thead>\n",
       "  <tbody>\n",
       "    <tr>\n",
       "      <th>0</th>\n",
       "      <td>82529.45927</td>\n",
       "      <td>6090.07732</td>\n",
       "      <td>665.21125</td>\n",
       "      <td>2311.27714</td>\n",
       "      <td>control</td>\n",
       "    </tr>\n",
       "    <tr>\n",
       "      <th>1</th>\n",
       "      <td>98050.45193</td>\n",
       "      <td>3382.86179</td>\n",
       "      <td>315.08489</td>\n",
       "      <td>1742.80686</td>\n",
       "      <td>control</td>\n",
       "    </tr>\n",
       "    <tr>\n",
       "      <th>2</th>\n",
       "      <td>82696.02355</td>\n",
       "      <td>4167.96575</td>\n",
       "      <td>458.08374</td>\n",
       "      <td>1797.82745</td>\n",
       "      <td>control</td>\n",
       "    </tr>\n",
       "    <tr>\n",
       "      <th>3</th>\n",
       "      <td>109914.40040</td>\n",
       "      <td>4910.88224</td>\n",
       "      <td>487.09077</td>\n",
       "      <td>1696.22918</td>\n",
       "      <td>control</td>\n",
       "    </tr>\n",
       "    <tr>\n",
       "      <th>4</th>\n",
       "      <td>108457.76263</td>\n",
       "      <td>5987.65581</td>\n",
       "      <td>441.03405</td>\n",
       "      <td>1543.72018</td>\n",
       "      <td>control</td>\n",
       "    </tr>\n",
       "    <tr>\n",
       "      <th>...</th>\n",
       "      <td>...</td>\n",
       "      <td>...</td>\n",
       "      <td>...</td>\n",
       "      <td>...</td>\n",
       "      <td>...</td>\n",
       "    </tr>\n",
       "    <tr>\n",
       "      <th>75</th>\n",
       "      <td>79234.91193</td>\n",
       "      <td>6002.21358</td>\n",
       "      <td>382.04712</td>\n",
       "      <td>2277.86398</td>\n",
       "      <td>test</td>\n",
       "    </tr>\n",
       "    <tr>\n",
       "      <th>76</th>\n",
       "      <td>130702.23941</td>\n",
       "      <td>3626.32007</td>\n",
       "      <td>449.82459</td>\n",
       "      <td>2530.84133</td>\n",
       "      <td>test</td>\n",
       "    </tr>\n",
       "    <tr>\n",
       "      <th>77</th>\n",
       "      <td>116481.87337</td>\n",
       "      <td>4702.78247</td>\n",
       "      <td>472.45373</td>\n",
       "      <td>2597.91763</td>\n",
       "      <td>test</td>\n",
       "    </tr>\n",
       "    <tr>\n",
       "      <th>78</th>\n",
       "      <td>79033.83492</td>\n",
       "      <td>4495.42818</td>\n",
       "      <td>425.35910</td>\n",
       "      <td>2595.85788</td>\n",
       "      <td>test</td>\n",
       "    </tr>\n",
       "    <tr>\n",
       "      <th>79</th>\n",
       "      <td>102257.45409</td>\n",
       "      <td>4800.06832</td>\n",
       "      <td>521.31073</td>\n",
       "      <td>2967.51839</td>\n",
       "      <td>test</td>\n",
       "    </tr>\n",
       "  </tbody>\n",
       "</table>\n",
       "<p>80 rows × 5 columns</p>\n",
       "</div>"
      ],
      "text/plain": [
       "     Impression      Click  Purchase    Earning    group\n",
       "0   82529.45927 6090.07732 665.21125 2311.27714  control\n",
       "1   98050.45193 3382.86179 315.08489 1742.80686  control\n",
       "2   82696.02355 4167.96575 458.08374 1797.82745  control\n",
       "3  109914.40040 4910.88224 487.09077 1696.22918  control\n",
       "4  108457.76263 5987.65581 441.03405 1543.72018  control\n",
       "..          ...        ...       ...        ...      ...\n",
       "75  79234.91193 6002.21358 382.04712 2277.86398     test\n",
       "76 130702.23941 3626.32007 449.82459 2530.84133     test\n",
       "77 116481.87337 4702.78247 472.45373 2597.91763     test\n",
       "78  79033.83492 4495.42818 425.35910 2595.85788     test\n",
       "79 102257.45409 4800.06832 521.31073 2967.51839     test\n",
       "\n",
       "[80 rows x 5 columns]"
      ]
     },
     "execution_count": 79,
     "metadata": {},
     "output_type": "execute_result"
    }
   ],
   "source": [
    "# Adım 3: Analiz işleminden sonra concat metodunu kullanarak kontrol ve test grubu verilerini birleştiriniz.\n",
    "\n",
    "# 1. yol\n",
    "\n",
    "df_control[\"group\"] = \"control\"\n",
    "df_test[\"group\"] = \"test\"\n",
    "\n",
    "df = pd.concat([df_control, df_test], axis=0, ignore_index=True) \n",
    "df"
   ]
  },
  {
   "cell_type": "code",
   "execution_count": 63,
   "id": "a8b305c1",
   "metadata": {},
   "outputs": [
    {
     "data": {
      "text/html": [
       "<div>\n",
       "<style scoped>\n",
       "    .dataframe tbody tr th:only-of-type {\n",
       "        vertical-align: middle;\n",
       "    }\n",
       "\n",
       "    .dataframe tbody tr th {\n",
       "        vertical-align: top;\n",
       "    }\n",
       "\n",
       "    .dataframe thead th {\n",
       "        text-align: right;\n",
       "    }\n",
       "</style>\n",
       "<table border=\"1\" class=\"dataframe\">\n",
       "  <thead>\n",
       "    <tr style=\"text-align: right;\">\n",
       "      <th></th>\n",
       "      <th>Impression</th>\n",
       "      <th>Click</th>\n",
       "      <th>Purchase</th>\n",
       "      <th>Earning</th>\n",
       "      <th>group</th>\n",
       "    </tr>\n",
       "  </thead>\n",
       "  <tbody>\n",
       "    <tr>\n",
       "      <th>0</th>\n",
       "      <td>82529.45927</td>\n",
       "      <td>6090.07732</td>\n",
       "      <td>665.21125</td>\n",
       "      <td>2311.27714</td>\n",
       "      <td>control</td>\n",
       "    </tr>\n",
       "    <tr>\n",
       "      <th>1</th>\n",
       "      <td>98050.45193</td>\n",
       "      <td>3382.86179</td>\n",
       "      <td>315.08489</td>\n",
       "      <td>1742.80686</td>\n",
       "      <td>control</td>\n",
       "    </tr>\n",
       "    <tr>\n",
       "      <th>2</th>\n",
       "      <td>82696.02355</td>\n",
       "      <td>4167.96575</td>\n",
       "      <td>458.08374</td>\n",
       "      <td>1797.82745</td>\n",
       "      <td>control</td>\n",
       "    </tr>\n",
       "    <tr>\n",
       "      <th>3</th>\n",
       "      <td>109914.40040</td>\n",
       "      <td>4910.88224</td>\n",
       "      <td>487.09077</td>\n",
       "      <td>1696.22918</td>\n",
       "      <td>control</td>\n",
       "    </tr>\n",
       "    <tr>\n",
       "      <th>4</th>\n",
       "      <td>108457.76263</td>\n",
       "      <td>5987.65581</td>\n",
       "      <td>441.03405</td>\n",
       "      <td>1543.72018</td>\n",
       "      <td>control</td>\n",
       "    </tr>\n",
       "    <tr>\n",
       "      <th>...</th>\n",
       "      <td>...</td>\n",
       "      <td>...</td>\n",
       "      <td>...</td>\n",
       "      <td>...</td>\n",
       "      <td>...</td>\n",
       "    </tr>\n",
       "    <tr>\n",
       "      <th>35</th>\n",
       "      <td>79234.91193</td>\n",
       "      <td>6002.21358</td>\n",
       "      <td>382.04712</td>\n",
       "      <td>2277.86398</td>\n",
       "      <td>test</td>\n",
       "    </tr>\n",
       "    <tr>\n",
       "      <th>36</th>\n",
       "      <td>130702.23941</td>\n",
       "      <td>3626.32007</td>\n",
       "      <td>449.82459</td>\n",
       "      <td>2530.84133</td>\n",
       "      <td>test</td>\n",
       "    </tr>\n",
       "    <tr>\n",
       "      <th>37</th>\n",
       "      <td>116481.87337</td>\n",
       "      <td>4702.78247</td>\n",
       "      <td>472.45373</td>\n",
       "      <td>2597.91763</td>\n",
       "      <td>test</td>\n",
       "    </tr>\n",
       "    <tr>\n",
       "      <th>38</th>\n",
       "      <td>79033.83492</td>\n",
       "      <td>4495.42818</td>\n",
       "      <td>425.35910</td>\n",
       "      <td>2595.85788</td>\n",
       "      <td>test</td>\n",
       "    </tr>\n",
       "    <tr>\n",
       "      <th>39</th>\n",
       "      <td>102257.45409</td>\n",
       "      <td>4800.06832</td>\n",
       "      <td>521.31073</td>\n",
       "      <td>2967.51839</td>\n",
       "      <td>test</td>\n",
       "    </tr>\n",
       "  </tbody>\n",
       "</table>\n",
       "<p>80 rows × 5 columns</p>\n",
       "</div>"
      ],
      "text/plain": [
       "     Impression      Click  Purchase    Earning    group\n",
       "0   82529.45927 6090.07732 665.21125 2311.27714  control\n",
       "1   98050.45193 3382.86179 315.08489 1742.80686  control\n",
       "2   82696.02355 4167.96575 458.08374 1797.82745  control\n",
       "3  109914.40040 4910.88224 487.09077 1696.22918  control\n",
       "4  108457.76263 5987.65581 441.03405 1543.72018  control\n",
       "..          ...        ...       ...        ...      ...\n",
       "35  79234.91193 6002.21358 382.04712 2277.86398     test\n",
       "36 130702.23941 3626.32007 449.82459 2530.84133     test\n",
       "37 116481.87337 4702.78247 472.45373 2597.91763     test\n",
       "38  79033.83492 4495.42818 425.35910 2595.85788     test\n",
       "39 102257.45409 4800.06832 521.31073 2967.51839     test\n",
       "\n",
       "[80 rows x 5 columns]"
      ]
     },
     "execution_count": 63,
     "metadata": {},
     "output_type": "execute_result"
    }
   ],
   "source": [
    "# 2. yol\n",
    "\n",
    "df2 = pd.concat([df_control, df_test], join=\"inner\", ignore_index=False)\n",
    "df2"
   ]
  },
  {
   "cell_type": "code",
   "execution_count": null,
   "id": "7681c4df",
   "metadata": {},
   "outputs": [],
   "source": [
    "# Görev 2: A/B Testinin Hipotezinin Tanımlanması\n",
    "\n",
    "# Adım 1: Hipotezi tanımlayınız.\n",
    "\n",
    "# Maximum Bidding ve Average Bidding teklif türlerinin getirdiği dönüşüm yani purchase ortalamaları arasında bir fark yoktur\n",
    "\n",
    "# H0 : M1 = M2 (Kontrol grubu ve test grubu satın alma ortalamaları arasında fark yoktur.)\n",
    "# H1 : M1!= M2 (Kontrol grubu ve test grubu satın alma ortalamalarıarasında fark vardır.)"
   ]
  },
  {
   "cell_type": "code",
   "execution_count": 80,
   "id": "5a233077",
   "metadata": {},
   "outputs": [
    {
     "data": {
      "text/html": [
       "<div>\n",
       "<style scoped>\n",
       "    .dataframe tbody tr th:only-of-type {\n",
       "        vertical-align: middle;\n",
       "    }\n",
       "\n",
       "    .dataframe tbody tr th {\n",
       "        vertical-align: top;\n",
       "    }\n",
       "\n",
       "    .dataframe thead th {\n",
       "        text-align: right;\n",
       "    }\n",
       "</style>\n",
       "<table border=\"1\" class=\"dataframe\">\n",
       "  <thead>\n",
       "    <tr style=\"text-align: right;\">\n",
       "      <th></th>\n",
       "      <th>Purchase</th>\n",
       "    </tr>\n",
       "    <tr>\n",
       "      <th>group</th>\n",
       "      <th></th>\n",
       "    </tr>\n",
       "  </thead>\n",
       "  <tbody>\n",
       "    <tr>\n",
       "      <th>control</th>\n",
       "      <td>550.89406</td>\n",
       "    </tr>\n",
       "    <tr>\n",
       "      <th>test</th>\n",
       "      <td>582.10610</td>\n",
       "    </tr>\n",
       "  </tbody>\n",
       "</table>\n",
       "</div>"
      ],
      "text/plain": [
       "         Purchase\n",
       "group            \n",
       "control 550.89406\n",
       "test    582.10610"
      ]
     },
     "execution_count": 80,
     "metadata": {},
     "output_type": "execute_result"
    }
   ],
   "source": [
    "# Adım 2: Kontrol ve test grubu için purchase (kazanç) ortalamalarını analiz ediniz.\n",
    "\n",
    "# 1. yol\n",
    "\n",
    "df.groupby(\"group\").agg({\"Purchase\": \"mean\"})\n",
    "\n",
    "# Yorum: kontrol grubu purchase ortalaması test grubundan daha düşük görünüyor \n",
    "# Bu iki grubun ortalama farklılığının istatistiki olarak anlamlı olup olmadığını araştırmalıyız"
   ]
  },
  {
   "cell_type": "code",
   "execution_count": 81,
   "id": "6709a45d",
   "metadata": {},
   "outputs": [
    {
     "data": {
      "text/plain": [
       "550.8940587702316"
      ]
     },
     "execution_count": 81,
     "metadata": {},
     "output_type": "execute_result"
    }
   ],
   "source": [
    "# 2. yol\n",
    "\n",
    "df_test[\"Purchase\"].mean() #582.10\n",
    "df_control[\"Purchase\"].mean() #550.89"
   ]
  },
  {
   "cell_type": "code",
   "execution_count": 82,
   "id": "2fef7933",
   "metadata": {},
   "outputs": [
    {
     "name": "stdout",
     "output_type": "stream",
     "text": [
      "Test Stat = 0.9773, p-value = 0.5891\n"
     ]
    }
   ],
   "source": [
    "# Görev 3: Hipotez Testinin Gerçekleştirilmesi\n",
    "\n",
    "# Adım 1: Hipotez testi yapılmadan önce varsayım kontrollerini yapınız. Bunlar Normallik Varsayımı \n",
    "# ve Varyans Homojenliğidir. Kontrol ve test grubunun normallik varsayımına uyup uymadığını Purchase değişkeni \n",
    "# üzerinden ayrı ayrı test ediniz.\n",
    "\n",
    "\"\"\"Normallik Varsayımı :\n",
    "H0: Normal dağılım varsayımı sağlanmaktadır. \n",
    "H1: Normal dağılım varsayımı sağlanmamaktadır.\n",
    "p < 0.05 H0 RED , p > 0.05 H0 REDDEDİLEMEZ\n",
    "Test sonucuna göre normallik varsayımı kontrol ve test grupları için sağlanıyor mu ? \n",
    "Elde edilen p-value değerlerini yorumlayınız.\"\"\"\n",
    "\n",
    "test_stat, pvalue = shapiro(df.loc[df[\"group\"] == \"control\", \"Purchase\"]) # shapiro önce ilgili grubu ister (sigara içen yes grubu)\n",
    "print('Test Stat = %.4f, p-value = %.4f' % (test_stat, pvalue))\n",
    "# p-value > 0.05 null hyp reddedilemez yani normallik varsayımı sağlanıyor"
   ]
  },
  {
   "cell_type": "code",
   "execution_count": 83,
   "id": "00a606aa",
   "metadata": {},
   "outputs": [
    {
     "name": "stdout",
     "output_type": "stream",
     "text": [
      "Test Stat = 0.9589, p-value = 0.1541\n"
     ]
    }
   ],
   "source": [
    "test_stat, pvalue = shapiro(df.loc[df[\"group\"] == \"test\", \"Purchase\"]) # shapiro önce ilgili grubu ister (sigara içen yes grubu)\n",
    "print('Test Stat = %.4f, p-value = %.4f' % (test_stat, pvalue))\n",
    "# p-value > 0.05 null hyp reddedilemez yani normallik varsayımı sağlanıyor kontrol grubu için"
   ]
  },
  {
   "cell_type": "code",
   "execution_count": 84,
   "id": "b6a58f7e",
   "metadata": {},
   "outputs": [
    {
     "name": "stdout",
     "output_type": "stream",
     "text": [
      "Test Stat = 0.9773, p-value = 0.5891\n",
      "Test Stat = 0.9589, p-value = 0.1541\n"
     ]
    }
   ],
   "source": [
    "# 2. yol\n",
    "\n",
    "test_stat, pvalue = shapiro(df_control[\"Purchase\"])\n",
    "print('Test Stat = %.4f, p-value = %.4f' % (test_stat, pvalue))\n",
    "\n",
    "test_stat, pvalue = shapiro(df_test[\"Purchase\"])\n",
    "print('Test Stat = %.4f, p-value = %.4f' % (test_stat, pvalue))"
   ]
  },
  {
   "cell_type": "code",
   "execution_count": 85,
   "id": "e4f3e9f8",
   "metadata": {},
   "outputs": [
    {
     "name": "stdout",
     "output_type": "stream",
     "text": [
      "Test Stat = 2.6393, p-value = 0.1083\n"
     ]
    }
   ],
   "source": [
    "\"\"\"\n",
    "Varyans: verilerin aritmetik ortalamadan sapmalarının karelerinin toplamı (std'nin köksüz hali)\n",
    "Varyans Homojenliği :\n",
    "H0: Varyanslar homojendir.\n",
    "H1: Varyanslar homojen Değildir.\n",
    "p < 0.05 H0 RED , p > 0.05 H0 REDDEDİLEMEZ\n",
    "Kontrol ve test grubu için varyans homojenliğinin sağlanıp sağlanmadığını \n",
    "Purchase değişkeni üzerinden test ediniz. \n",
    "Test sonucuna göre normallik varsayımı sağlanıyor mu? \n",
    "Elde edilen p-value değerlerini yorumlayınız. \"\"\"\n",
    "\n",
    "# 1. yol\n",
    "\n",
    "test_stat, pvalue = levene(df.loc[df[\"group\"] == \"control\", \"Purchase\"],\n",
    "                           df.loc[df[\"group\"] == \"test\", \"Purchase\"])\n",
    "print('Test Stat = %.4f, p-value = %.4f' % (test_stat, pvalue))\n",
    "\n",
    "# p-value > 0.05 null hyp reddedilemez, varyanslar homojendir"
   ]
  },
  {
   "cell_type": "code",
   "execution_count": 86,
   "id": "7e4ebb29",
   "metadata": {},
   "outputs": [
    {
     "name": "stdout",
     "output_type": "stream",
     "text": [
      "Test Stat = 2.6393, p-value = 0.1083\n"
     ]
    }
   ],
   "source": [
    "# 2. yol\n",
    "\n",
    "test_stat, pvalue = levene(df_test[\"Purchase\"],\n",
    "                           df_control[\"Purchase\"].dropna()) # dropna eksik değer varse levene testte sorun çıkar\n",
    "\n",
    "print('Test Stat = %.4f, p-value = %.4f' % (test_stat, pvalue))"
   ]
  },
  {
   "cell_type": "code",
   "execution_count": null,
   "id": "58f3d318",
   "metadata": {},
   "outputs": [],
   "source": [
    "# Adım 2: Normallik Varsayımı ve Varyans Homojenliği sonuçlarına göre uygun testi seçiniz\n",
    "\n",
    "# 2 varsayım da sağlandığı için bağımsız iki örneklem t testi (parametrik test) uygulayabiliriz"
   ]
  },
  {
   "cell_type": "code",
   "execution_count": 87,
   "id": "bec2ac0e",
   "metadata": {},
   "outputs": [
    {
     "name": "stdout",
     "output_type": "stream",
     "text": [
      "Test Stat = -0.9416, p-value = 0.3493\n"
     ]
    }
   ],
   "source": [
    "# Adım 3: Test sonucunda elde edilen p_value değerini göz önünde bulundurarak \n",
    "# kontrol ve test grubu satın alma ortalamaları arasında istatistiki \n",
    "# olarak anlamlı bir fark olup olmadığını yorumlayınız\n",
    "\n",
    "# 1. yol\n",
    "\n",
    "test_stat, pvalue = ttest_ind(df.loc[df[\"group\"] == \"control\", \"Purchase\"],\n",
    "                              df.loc[df[\"group\"] == \"test\", \"Purchase\"],\n",
    "                              equal_var=True)\n",
    "\n",
    "print('Test Stat = %.4f, p-value = %.4f' % (test_stat, pvalue))\n",
    "\n",
    "# p-value > 0.05 null hyp reddedilemez, Kontrol grubu ve test grubu satın alma ortalamaları arasında fark yoktur\n",
    "# Maximum Bidding ve Average Bidding teklif türlerinin getirdiği dönüşüm yani purchase ortalamaları arasında istatistiki olarak anlamlı bir fark yoktur"
   ]
  },
  {
   "cell_type": "code",
   "execution_count": null,
   "id": "7797337b",
   "metadata": {},
   "outputs": [],
   "source": [
    "# H0 : M1 = M2 (Kontrol grubu ve test grubu satın alma ortalamaları arasında fark yoktur.)\n",
    "# H1 : M1!= M2 (Kontrol grubu ve test grubu satın alma ortalamalarıarasında fark vardır.)"
   ]
  },
  {
   "cell_type": "code",
   "execution_count": 88,
   "id": "45104d5c",
   "metadata": {},
   "outputs": [
    {
     "name": "stdout",
     "output_type": "stream",
     "text": [
      "Test Stat = 0.9416, p-value = 0.3493\n"
     ]
    }
   ],
   "source": [
    "# 2. yol\n",
    "\n",
    "test_stat, pvalue = ttest_ind(df_test[\"Purchase\"],\n",
    "                              df_control[\"Purchase\"],\n",
    "                              equal_var=True)\n",
    "\n",
    "print('Test Stat = %.4f, p-value = %.4f' % (test_stat, pvalue))"
   ]
  },
  {
   "cell_type": "code",
   "execution_count": 103,
   "id": "e03b1d33",
   "metadata": {},
   "outputs": [],
   "source": [
    "# Tutku'nun fonksiyonu\n",
    "\n",
    "def AB_Test(dataframe, group, target):\n",
    "\n",
    "    # Necessary packages\n",
    "    from scipy.stats import shapiro\n",
    "    import scipy.stats as stats\n",
    "\n",
    "    # # Split A/B\n",
    "    control = dataframe[dataframe[group] == \"control\"][target] #Old Design\n",
    "    test = dataframe[dataframe[group] == \"test\"][target] #New Desing\n",
    "\n",
    "    # Assumption of the Normality \n",
    "    normality_control = shapiro(control)[1] < 0.05\n",
    "    normality_test = shapiro(test)[1] < 0.05\n",
    "\n",
    "    # H0: Data follow a normal distribution.- False\n",
    "    # H1: Data do not follow a normal distribution. - True\n",
    "\n",
    "    if (normality_control == False) & (normality_test == False):  # \"H0: Data follow a normal distribution\n",
    "        # Parametric Test\n",
    "        # Assumption: Homogeneity of variances\n",
    "\n",
    "        leveneTest = stats.levene(control, test)[1] < 0.05\n",
    "        # H0: Homogeneity: False\n",
    "        # H1: Heterogeneous: True\n",
    "\n",
    "        if leveneTest == False:\n",
    "            # Homogeneity\n",
    "            ttest = stats.ttest_ind(control, test, equal_var=True)[1] # Attention! equal_var=True\n",
    "            # H0: M1 == M2 - False\n",
    "            # H1: M1 != M2 - True\n",
    "        else:\n",
    "            # Heterogeneous\n",
    "            ttest = stats.ttest_ind(control, test, equal_var=False)[1] #Attention! equal_var=False\n",
    "            # H0: M1 == M2 - False\n",
    "            # H1: M1 != M2 - True\n",
    "    else:\n",
    "        # Non-Parametric Test\n",
    "        ttest = stats.mannwhitneyu(control, test)[1]\n",
    "        # H0: M1 == M2 - False\n",
    "        # H1: M1 != M2 - True\n",
    "\n",
    "    # Result\n",
    "    temp = pd.DataFrame({\n",
    "        \"AB Hypothesis\": [ttest < 0.05],\n",
    "        \"p-value\": [ttest]\n",
    "    })\n",
    "    temp[\"Test Type\"] = np.where((normality_control == False) & (normality_test == False), \"Parametric\", \"Non-Parametric\")\n",
    "    temp[\"AB Hypothesis\"] = np.where(temp[\"AB Hypothesis\"] == False, \"Fail to Reject H0\", \"Reject H0\")\n",
    "    temp[\"Comment\"] = np.where(temp[\"AB Hypothesis\"] == \"Fail to Reject H0\", \"A/B groups are similar!\",\n",
    "                               \"A/B groups are not similar!\")\n",
    "\n",
    "    # Columns\n",
    "    if (normality_control == False) & (normality_test == False):\n",
    "        temp[\"Homogeneity\"] = np.where(leveneTest == False, \"Yes\", \"No\")\n",
    "        temp = temp[[\"Test Type\", \"Homogeneity\", \"AB Hypothesis\", \"p-value\", \"Comment\"]]\n",
    "    else:\n",
    "        temp = temp[[\"Test Type\", \"AB Hypothesis\", \"p-value\", \"Comment\"]]\n",
    "\n",
    "    # Print Hypothesis\n",
    "    print(\"# A/B Testing Hypothesis\")\n",
    "    print(\"H0: A == B\")\n",
    "    print(\"H1: A != B\", \"\\n\")\n",
    "\n",
    "    return temp"
   ]
  },
  {
   "cell_type": "code",
   "execution_count": 104,
   "id": "2f352eb6",
   "metadata": {},
   "outputs": [
    {
     "name": "stdout",
     "output_type": "stream",
     "text": [
      "# A/B Testing Hypothesis\n",
      "H0: A == B\n",
      "H1: A != B \n",
      "\n"
     ]
    },
    {
     "data": {
      "text/html": [
       "<div>\n",
       "<style scoped>\n",
       "    .dataframe tbody tr th:only-of-type {\n",
       "        vertical-align: middle;\n",
       "    }\n",
       "\n",
       "    .dataframe tbody tr th {\n",
       "        vertical-align: top;\n",
       "    }\n",
       "\n",
       "    .dataframe thead th {\n",
       "        text-align: right;\n",
       "    }\n",
       "</style>\n",
       "<table border=\"1\" class=\"dataframe\">\n",
       "  <thead>\n",
       "    <tr style=\"text-align: right;\">\n",
       "      <th></th>\n",
       "      <th>Test Type</th>\n",
       "      <th>Homogeneity</th>\n",
       "      <th>AB Hypothesis</th>\n",
       "      <th>p-value</th>\n",
       "      <th>Comment</th>\n",
       "    </tr>\n",
       "  </thead>\n",
       "  <tbody>\n",
       "    <tr>\n",
       "      <th>0</th>\n",
       "      <td>Parametric</td>\n",
       "      <td>Yes</td>\n",
       "      <td>Fail to Reject H0</td>\n",
       "      <td>0.34933</td>\n",
       "      <td>A/B groups are similar!</td>\n",
       "    </tr>\n",
       "  </tbody>\n",
       "</table>\n",
       "</div>"
      ],
      "text/plain": [
       "    Test Type Homogeneity      AB Hypothesis  p-value                  Comment\n",
       "0  Parametric         Yes  Fail to Reject H0  0.34933  A/B groups are similar!"
      ]
     },
     "execution_count": 104,
     "metadata": {},
     "output_type": "execute_result"
    }
   ],
   "source": [
    "AB_Test(df, \"group\", \"Purchase\")"
   ]
  },
  {
   "cell_type": "code",
   "execution_count": null,
   "id": "53de2853",
   "metadata": {},
   "outputs": [],
   "source": [
    "# Görev 4: Sonuçların Analizi\n",
    "\n",
    "# Adım 1: Hangi testi kullandınız, sebeplerini belirtiniz\n",
    "\n",
    "# Hem normallik hem de varyans homojenliği varsayımları sağlandığı (ve iki grup arasındaki istatistiksel anlamları ortaya çıkarabilmek) için \n",
    "# bağımsız iki örneklem t testi (parametrik test) kullandım\n",
    "\n",
    "# Diğer süreçler:\n",
    "# Kontrol ve test grubunun normallik varsayımına uyup uymadığını test etmek için Shapiro testi kullandım\n",
    "# 2 grupta da normallik varsayımı sağlandığı için (normal dağılıma uyduğu için) varyans homojenliği varsayımını kontrol ettim\n",
    "# Varyans homojenliği varsayımını test etmek için Levene testi kullandım.\n",
    "# 2 grupta varyans homojenliği olduğu sonucuna vardım\n",
    "# Sonuçta kontrol ve test gruplarının ortalamaları arasında fark olduğu görülse bile\n",
    "# bunun istatistiksel olarak anlamlı olmadığı yapılan analizler sonucu tespit edilmiştir."
   ]
  },
  {
   "cell_type": "code",
   "execution_count": null,
   "id": "0b8e7e2e",
   "metadata": {},
   "outputs": [],
   "source": [
    "# Adım 2: Elde ettiğiniz test sonuçlarına göre müşteriye tavsiyede bulununuz.\n",
    "\n",
    "# yeni sistem purchase kısmında anlamlı bir fark yaratmadığı için farklı sistemler denenebilir\n",
    "# Web sitesine eklenen yeni sistemi tekrardan incelemek için daha fazla örneklem ile yeni bir test yapılabilir. \n",
    "# Test ettiğimiz yeni sistem kazanç ortalamalarında anlamlı bir farklılık yaratmamıştır. Şu an için hayata geçirilmesine gerek yoktur.\n",
    "# Yapılan iş tesadüfen oluşmuştur ve 2. çalışmaya gerek yoktur. (mentorumuzun yorumu)\n",
    "# Tıklanma, Etkileşim, Kazanç ve Dönüşüm oranlarındaki farklılıklar değerlendirilip istatistikleri \n",
    "# incelenebilir ona göre 2 metoddan hangisinin kullanılacağına karar verilebilir\n",
    "# Eğer 2 metodu birden kullanmanın ciddi maliyeti yoksa data toplanmaya devam edilip \n",
    "# Kıyasa devam edilebilir\n",
    "# Facebookta tıklanma başına para ödendiği için hangi yöntemde tıklanma oranı daha düşük \n",
    "# araştırması yapılabilir ve CTR (click through tate tıklama oranı) oranına bakılabilir"
   ]
  },
  {
   "cell_type": "code",
   "execution_count": 109,
   "id": "8aa788ce",
   "metadata": {},
   "outputs": [
    {
     "data": {
      "text/plain": [
       "0.05"
      ]
     },
     "execution_count": 109,
     "metadata": {},
     "output_type": "execute_result"
    }
   ],
   "source": [
    "round(0.051,2)"
   ]
  },
  {
   "cell_type": "code",
   "execution_count": 110,
   "id": "8ba1f8c1",
   "metadata": {},
   "outputs": [
    {
     "data": {
      "text/plain": [
       "0.06"
      ]
     },
     "execution_count": 110,
     "metadata": {},
     "output_type": "execute_result"
    }
   ],
   "source": [
    "round(0.059,2)"
   ]
  },
  {
   "cell_type": "code",
   "execution_count": 123,
   "id": "596943ea",
   "metadata": {},
   "outputs": [
    {
     "data": {
      "text/plain": [
       "2.25"
      ]
     },
     "execution_count": 123,
     "metadata": {},
     "output_type": "execute_result"
    }
   ],
   "source": [
    "import numpy as np\n",
    "arr = [2,3]\n",
    "np.quantile(arr, 0.25)"
   ]
  },
  {
   "cell_type": "code",
   "execution_count": 56,
   "id": "d6a4cbb7",
   "metadata": {},
   "outputs": [],
   "source": [
    "series = pd.Series([1, 2, 3, 4, 5])"
   ]
  },
  {
   "cell_type": "code",
   "execution_count": 105,
   "id": "c6532eb9",
   "metadata": {},
   "outputs": [
    {
     "data": {
      "text/plain": [
       "3.7"
      ]
     },
     "execution_count": 105,
     "metadata": {},
     "output_type": "execute_result"
    }
   ],
   "source": [
    "series.quantile(0.9) #0.5"
   ]
  },
  {
   "cell_type": "code",
   "execution_count": 124,
   "id": "b47edc38",
   "metadata": {},
   "outputs": [],
   "source": [
    "series2 = pd.Series([2, 3])"
   ]
  },
  {
   "cell_type": "code",
   "execution_count": 125,
   "id": "aa7bbbb9",
   "metadata": {},
   "outputs": [
    {
     "data": {
      "text/plain": [
       "2.25"
      ]
     },
     "execution_count": 125,
     "metadata": {},
     "output_type": "execute_result"
    }
   ],
   "source": [
    "# 0.25*1\n",
    "# tam kısmı 0, percentage 0.25\n",
    "# hiç bir şey arasında değil\n",
    "series2[0] + 0.25*(series2[1]-series2[0])"
   ]
  },
  {
   "cell_type": "code",
   "execution_count": 58,
   "id": "6aac2743",
   "metadata": {},
   "outputs": [],
   "source": [
    "series = pd.Series([1, 2, 3, 4])"
   ]
  },
  {
   "cell_type": "code",
   "execution_count": 59,
   "id": "eef0758d",
   "metadata": {},
   "outputs": [
    {
     "data": {
      "text/plain": [
       "2.5"
      ]
     },
     "execution_count": 59,
     "metadata": {},
     "output_type": "execute_result"
    }
   ],
   "source": [
    "series.quantile()"
   ]
  },
  {
   "cell_type": "code",
   "execution_count": 112,
   "id": "edc50870",
   "metadata": {},
   "outputs": [
    {
     "data": {
      "text/plain": [
       "4"
      ]
     },
     "execution_count": 112,
     "metadata": {},
     "output_type": "execute_result"
    }
   ],
   "source": [
    "n = len(series)\n",
    "n"
   ]
  },
  {
   "cell_type": "code",
   "execution_count": 117,
   "id": "f7ce1436",
   "metadata": {},
   "outputs": [
    {
     "data": {
      "text/plain": [
       "2.7"
      ]
     },
     "execution_count": 117,
     "metadata": {},
     "output_type": "execute_result"
    }
   ],
   "source": [
    "0.9*(n-1) # 2 ve 3. değerler arasında (yani 3 ile 4)\n",
    "# Tam kısmı 2, ondalık kısmı 0.7"
   ]
  },
  {
   "cell_type": "code",
   "execution_count": 115,
   "id": "9a8ec537",
   "metadata": {},
   "outputs": [
    {
     "data": {
      "text/plain": [
       "3.7"
      ]
     },
     "execution_count": 115,
     "metadata": {},
     "output_type": "execute_result"
    }
   ],
   "source": [
    "# Linear Interpolation\n",
    "quantile = series[2] + 0.7*(series[3] - series[2])\n",
    "quantile"
   ]
  },
  {
   "cell_type": "code",
   "execution_count": 116,
   "id": "faafb4e9",
   "metadata": {},
   "outputs": [
    {
     "data": {
      "text/plain": [
       "3.6"
      ]
     },
     "execution_count": 116,
     "metadata": {},
     "output_type": "execute_result"
    }
   ],
   "source": [
    "4*0.9"
   ]
  },
  {
   "cell_type": "code",
   "execution_count": 106,
   "id": "fcd389ee",
   "metadata": {},
   "outputs": [
    {
     "data": {
      "text/plain": [
       "0.25000   1.75000\n",
       "0.50000   2.50000\n",
       "0.75000   3.25000\n",
       "dtype: float64"
      ]
     },
     "execution_count": 106,
     "metadata": {},
     "output_type": "execute_result"
    }
   ],
   "source": [
    "\n",
    "series.quantile([.25, .5, .75])"
   ]
  },
  {
   "cell_type": "code",
   "execution_count": null,
   "id": "4af8da0b",
   "metadata": {},
   "outputs": [],
   "source": [
    "[1, 2, 3, 4]\n"
   ]
  }
 ],
 "metadata": {
  "kernelspec": {
   "display_name": "Python 3 (ipykernel)",
   "language": "python",
   "name": "python3"
  },
  "language_info": {
   "codemirror_mode": {
    "name": "ipython",
    "version": 3
   },
   "file_extension": ".py",
   "mimetype": "text/x-python",
   "name": "python",
   "nbconvert_exporter": "python",
   "pygments_lexer": "ipython3",
   "version": "3.9.13"
  }
 },
 "nbformat": 4,
 "nbformat_minor": 5
}
